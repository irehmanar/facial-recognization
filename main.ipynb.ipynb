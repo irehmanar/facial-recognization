{
  "cells": [
    {
      "cell_type": "markdown",
      "metadata": {
        "id": "Wsl5kmu_TiHQ"
      },
      "source": [
        "# Data Preprocessing\n"
      ]
    },
    {
      "cell_type": "raw",
      "metadata": {
        "id": "kqNIve1qTiHV"
      },
      "source": [
        "Importing Libraries"
      ]
    },
    {
      "cell_type": "markdown",
      "metadata": {
        "id": "VGMqyw9jTiHW"
      },
      "source": [
        "Importing Libraries"
      ]
    },
    {
      "cell_type": "code",
      "execution_count": null,
      "metadata": {
        "execution": {
          "iopub.execute_input": "2025-04-17T12:14:45.652113Z",
          "iopub.status.busy": "2025-04-17T12:14:45.651882Z",
          "iopub.status.idle": "2025-04-17T12:14:56.324745Z",
          "shell.execute_reply": "2025-04-17T12:14:56.324213Z",
          "shell.execute_reply.started": "2025-04-17T12:14:45.652094Z"
        },
        "trusted": true,
        "id": "9HBYsragTiHX"
      },
      "outputs": [],
      "source": [
        "import os\n",
        "import torch\n",
        "import torch.nn as nn\n",
        "import torch.nn.functional as F\n",
        "import torch.optim as optim\n",
        "from torch.utils.data import DataLoader, random_split\n",
        "from torch.optim.lr_scheduler import ReduceLROnPlateau\n",
        "\n",
        "from torchvision import datasets, transforms, models\n",
        "\n",
        "import pandas as pd\n",
        "import matplotlib.pyplot as plt\n",
        "from PIL import Image\n",
        "\n",
        "from tqdm import tqdm\n"
      ]
    },
    {
      "cell_type": "markdown",
      "metadata": {
        "id": "s856IjhUTiHa"
      },
      "source": [
        "Data Configuration"
      ]
    },
    {
      "cell_type": "code",
      "execution_count": null,
      "metadata": {
        "execution": {
          "iopub.execute_input": "2025-04-17T12:14:56.326939Z",
          "iopub.status.busy": "2025-04-17T12:14:56.326188Z",
          "iopub.status.idle": "2025-04-17T12:14:56.330423Z",
          "shell.execute_reply": "2025-04-17T12:14:56.329786Z",
          "shell.execute_reply.started": "2025-04-17T12:14:56.326920Z"
        },
        "trusted": true,
        "id": "jDqswtZwTiHa"
      },
      "outputs": [],
      "source": [
        "data_dir = '/kaggle/input/face-classification-deep-learning-cs-405/dataset'  # Replace with your actual path\n",
        "val_ratio = 0.1\n",
        "test_ratio = 0.1\n",
        "batch_size = 64\n",
        "image_size = 224\n"
      ]
    },
    {
      "cell_type": "markdown",
      "metadata": {
        "id": "RcOsQsjLTiHb"
      },
      "source": [
        "Data Augmentation and Preprocessing"
      ]
    },
    {
      "cell_type": "code",
      "execution_count": null,
      "metadata": {
        "execution": {
          "iopub.execute_input": "2025-04-17T12:14:56.331283Z",
          "iopub.status.busy": "2025-04-17T12:14:56.331034Z",
          "iopub.status.idle": "2025-04-17T12:14:56.351266Z",
          "shell.execute_reply": "2025-04-17T12:14:56.350736Z",
          "shell.execute_reply.started": "2025-04-17T12:14:56.331259Z"
        },
        "trusted": true,
        "id": "fa9uZvLjTiHc"
      },
      "outputs": [],
      "source": [
        "# Data transformations for training set\n",
        "train_transform = transforms.Compose([\n",
        "    transforms.Resize((image_size, image_size)),          # Resize images to a fixed size\n",
        "    transforms.RandomHorizontalFlip(),                    # Randomly flip images horizontally\n",
        "    transforms.RandomRotation(10),                        # Randomly rotate images by ±10 degrees\n",
        "    transforms.ToTensor(),                                # Convert images to PyTorch tensors\n",
        "    transforms.Normalize([0.485, 0.456, 0.406],            # Normalize using ImageNet mean\n",
        "                         [0.229, 0.224, 0.225])            # and standard deviation\n",
        "])\n",
        "\n",
        "# Data transformations for validation and test sets (no augmentations)\n",
        "eval_transform = transforms.Compose([\n",
        "    transforms.Resize((image_size, image_size)),          # Resize images to the same size as training\n",
        "    transforms.ToTensor(),                                # Convert to PyTorch tensors\n",
        "    transforms.Normalize([0.485, 0.456, 0.406],            # Normalize using ImageNet statistics\n",
        "                         [0.229, 0.224, 0.225])\n",
        "])\n"
      ]
    },
    {
      "cell_type": "markdown",
      "metadata": {
        "id": "PKo7Ba-JTiHe"
      },
      "source": [
        "Load Full Dataset and Extract Class Information"
      ]
    },
    {
      "cell_type": "code",
      "execution_count": null,
      "metadata": {
        "execution": {
          "iopub.execute_input": "2025-04-17T12:14:56.352190Z",
          "iopub.status.busy": "2025-04-17T12:14:56.351955Z",
          "iopub.status.idle": "2025-04-17T12:16:20.935863Z",
          "shell.execute_reply": "2025-04-17T12:16:20.935137Z",
          "shell.execute_reply.started": "2025-04-17T12:14:56.352169Z"
        },
        "trusted": true,
        "id": "lgMa0xPvTiHf",
        "outputId": "29d2be66-5f94-419f-8cd5-206e80274ade"
      },
      "outputs": [
        {
          "name": "stdout",
          "output_type": "stream",
          "text": [
            "Total images: 140000\n"
          ]
        }
      ],
      "source": [
        "# Load the full training dataset using the defined training transformations\n",
        "full_dataset = datasets.ImageFolder(root=os.path.join(data_dir, 'train'),\n",
        "                                    transform=train_transform)\n",
        "\n",
        "# Get the list of class names (folder names inside the dataset)\n",
        "class_names = full_dataset.classes\n",
        "\n",
        "# Get the total number of images in the dataset\n",
        "total_len = len(full_dataset)\n",
        "print(f\"Total images: {total_len}\")  # Print total image count for reference\n"
      ]
    },
    {
      "cell_type": "markdown",
      "metadata": {
        "id": "sA2uGMmdTiHh"
      },
      "source": [
        "Split Dataset into Train, Validation, and Test Sets"
      ]
    },
    {
      "cell_type": "code",
      "execution_count": null,
      "metadata": {
        "execution": {
          "iopub.execute_input": "2025-04-17T12:16:20.937868Z",
          "iopub.status.busy": "2025-04-17T12:16:20.937571Z",
          "iopub.status.idle": "2025-04-17T12:16:21.000612Z",
          "shell.execute_reply": "2025-04-17T12:16:20.999967Z",
          "shell.execute_reply.started": "2025-04-17T12:16:20.937849Z"
        },
        "trusted": true,
        "id": "GOet0lvcTiHh"
      },
      "outputs": [],
      "source": [
        "# Calculate the number of samples for validation and test sets\n",
        "val_len = int(total_len * val_ratio)\n",
        "test_len = int(total_len * test_ratio)\n",
        "\n",
        "# Remaining samples will be used for training\n",
        "train_len = total_len - val_len - test_len\n",
        "\n",
        "# Randomly split the full dataset into training, validation, and test sets\n",
        "train_dataset, val_dataset, test_dataset = random_split(\n",
        "    full_dataset, [train_len, val_len, test_len]\n",
        ")\n"
      ]
    },
    {
      "cell_type": "markdown",
      "metadata": {
        "id": "eTJYMuraTiHi"
      },
      "source": [
        "Apply Evaluation Transforms to Validation and Test Sets"
      ]
    },
    {
      "cell_type": "code",
      "execution_count": null,
      "metadata": {
        "execution": {
          "iopub.execute_input": "2025-04-17T12:16:21.001519Z",
          "iopub.status.busy": "2025-04-17T12:16:21.001338Z",
          "iopub.status.idle": "2025-04-17T12:16:21.005701Z",
          "shell.execute_reply": "2025-04-17T12:16:21.004596Z",
          "shell.execute_reply.started": "2025-04-17T12:16:21.001504Z"
        },
        "trusted": true,
        "id": "vNHWMv0FTiHj"
      },
      "outputs": [],
      "source": [
        "# Override the transform for validation set with evaluation (non-augmented) transforms\n",
        "val_dataset.dataset.transform = eval_transform\n",
        "\n",
        "# Override the transform for test set with evaluation (non-augmented) transforms\n",
        "test_dataset.dataset.transform = eval_transform\n"
      ]
    },
    {
      "cell_type": "markdown",
      "metadata": {
        "id": "vNfpxyZLTiHj"
      },
      "source": [
        "Create DataLoaders for Training, Validation, and Testing"
      ]
    },
    {
      "cell_type": "code",
      "execution_count": null,
      "metadata": {
        "execution": {
          "iopub.execute_input": "2025-04-17T12:16:21.007104Z",
          "iopub.status.busy": "2025-04-17T12:16:21.006684Z",
          "iopub.status.idle": "2025-04-17T12:16:21.028658Z",
          "shell.execute_reply": "2025-04-17T12:16:21.027693Z",
          "shell.execute_reply.started": "2025-04-17T12:16:21.007072Z"
        },
        "trusted": true,
        "id": "MfKiAMyQTiHk"
      },
      "outputs": [],
      "source": [
        "# DataLoader for training data (shuffling enabled for better generalization)\n",
        "train_loader = DataLoader(train_dataset, batch_size=batch_size,\n",
        "                          shuffle=True, num_workers=4, pin_memory=True)\n",
        "\n",
        "# DataLoader for validation data (no shuffling to maintain consistency)\n",
        "val_loader = DataLoader(val_dataset, batch_size=batch_size,\n",
        "                        shuffle=False, num_workers=4, pin_memory=True)\n",
        "\n",
        "# DataLoader for test data (no shuffling, just like validation)\n",
        "test_loader = DataLoader(test_dataset, batch_size=batch_size,\n",
        "                         shuffle=False, num_workers=4, pin_memory=True)\n"
      ]
    },
    {
      "cell_type": "markdown",
      "metadata": {
        "id": "jBvMD2HWTiHk"
      },
      "source": [
        "Dataset Summary Output"
      ]
    },
    {
      "cell_type": "code",
      "execution_count": null,
      "metadata": {
        "execution": {
          "iopub.execute_input": "2025-04-17T12:18:53.504162Z",
          "iopub.status.busy": "2025-04-17T12:18:53.503230Z",
          "iopub.status.idle": "2025-04-17T12:18:53.508197Z",
          "shell.execute_reply": "2025-04-17T12:18:53.507647Z",
          "shell.execute_reply.started": "2025-04-17T12:18:53.504111Z"
        },
        "trusted": true,
        "id": "azWsatXjTiHl",
        "outputId": "cb79304c-998a-4d5e-f3b2-7a4d81094d62"
      },
      "outputs": [
        {
          "name": "stdout",
          "output_type": "stream",
          "text": [
            "[INFO] Train: 112000, Val: 14000, Test: 14000, Classes: 7000\n"
          ]
        }
      ],
      "source": [
        "# Print dataset split information and number of classes\n",
        "print(f\"[INFO] Train: {train_len}, Val: {val_len}, Test: {test_len}, Classes: {len(class_names)}\")\n"
      ]
    },
    {
      "cell_type": "markdown",
      "metadata": {
        "id": "WzDFPgKeTiHl"
      },
      "source": [
        "# Model no. 1: Mobilenet_v2"
      ]
    },
    {
      "cell_type": "markdown",
      "metadata": {
        "id": "0W4dz_srTiHn"
      },
      "source": [
        "Model Setup and Configuration"
      ]
    },
    {
      "cell_type": "code",
      "execution_count": null,
      "metadata": {
        "execution": {
          "iopub.execute_input": "2025-04-16T14:17:11.447270Z",
          "iopub.status.busy": "2025-04-16T14:17:11.446811Z",
          "iopub.status.idle": "2025-04-16T14:17:11.867564Z",
          "shell.execute_reply": "2025-04-16T14:17:11.866758Z",
          "shell.execute_reply.started": "2025-04-16T14:17:11.447249Z"
        },
        "trusted": true,
        "id": "NLSIys4ZTiHo",
        "outputId": "45cc957c-df67-4a12-acbc-78c4b89bc9b4"
      },
      "outputs": [
        {
          "name": "stderr",
          "output_type": "stream",
          "text": [
            "/usr/local/lib/python3.11/dist-packages/torchvision/models/_utils.py:208: UserWarning: The parameter 'pretrained' is deprecated since 0.13 and may be removed in the future, please use 'weights' instead.\n",
            "  warnings.warn(\n",
            "/usr/local/lib/python3.11/dist-packages/torchvision/models/_utils.py:223: UserWarning: Arguments other than a weight enum or `None` for 'weights' are deprecated since 0.13 and may be removed in the future. The current behavior is equivalent to passing `weights=MobileNet_V2_Weights.IMAGENET1K_V1`. You can also use `weights=MobileNet_V2_Weights.DEFAULT` to get the most up-to-date weights.\n",
            "  warnings.warn(msg)\n",
            "Downloading: \"https://download.pytorch.org/models/mobilenet_v2-b0353104.pth\" to /root/.cache/torch/hub/checkpoints/mobilenet_v2-b0353104.pth\n",
            "100%|██████████| 13.6M/13.6M [00:00<00:00, 169MB/s]\n"
          ]
        },
        {
          "name": "stdout",
          "output_type": "stream",
          "text": [
            "MobileNetV2(\n",
            "  (features): Sequential(\n",
            "    (0): Conv2dNormActivation(\n",
            "      (0): Conv2d(3, 32, kernel_size=(3, 3), stride=(2, 2), padding=(1, 1), bias=False)\n",
            "      (1): BatchNorm2d(32, eps=1e-05, momentum=0.1, affine=True, track_running_stats=True)\n",
            "      (2): ReLU6(inplace=True)\n",
            "    )\n",
            "    (1): InvertedResidual(\n",
            "      (conv): Sequential(\n",
            "        (0): Conv2dNormActivation(\n",
            "          (0): Conv2d(32, 32, kernel_size=(3, 3), stride=(1, 1), padding=(1, 1), groups=32, bias=False)\n",
            "          (1): BatchNorm2d(32, eps=1e-05, momentum=0.1, affine=True, track_running_stats=True)\n",
            "          (2): ReLU6(inplace=True)\n",
            "        )\n",
            "        (1): Conv2d(32, 16, kernel_size=(1, 1), stride=(1, 1), bias=False)\n",
            "        (2): BatchNorm2d(16, eps=1e-05, momentum=0.1, affine=True, track_running_stats=True)\n",
            "      )\n",
            "    )\n",
            "    (2): InvertedResidual(\n",
            "      (conv): Sequential(\n",
            "        (0): Conv2dNormActivation(\n",
            "          (0): Conv2d(16, 96, kernel_size=(1, 1), stride=(1, 1), bias=False)\n",
            "          (1): BatchNorm2d(96, eps=1e-05, momentum=0.1, affine=True, track_running_stats=True)\n",
            "          (2): ReLU6(inplace=True)\n",
            "        )\n",
            "        (1): Conv2dNormActivation(\n",
            "          (0): Conv2d(96, 96, kernel_size=(3, 3), stride=(2, 2), padding=(1, 1), groups=96, bias=False)\n",
            "          (1): BatchNorm2d(96, eps=1e-05, momentum=0.1, affine=True, track_running_stats=True)\n",
            "          (2): ReLU6(inplace=True)\n",
            "        )\n",
            "        (2): Conv2d(96, 24, kernel_size=(1, 1), stride=(1, 1), bias=False)\n",
            "        (3): BatchNorm2d(24, eps=1e-05, momentum=0.1, affine=True, track_running_stats=True)\n",
            "      )\n",
            "    )\n",
            "    (3): InvertedResidual(\n",
            "      (conv): Sequential(\n",
            "        (0): Conv2dNormActivation(\n",
            "          (0): Conv2d(24, 144, kernel_size=(1, 1), stride=(1, 1), bias=False)\n",
            "          (1): BatchNorm2d(144, eps=1e-05, momentum=0.1, affine=True, track_running_stats=True)\n",
            "          (2): ReLU6(inplace=True)\n",
            "        )\n",
            "        (1): Conv2dNormActivation(\n",
            "          (0): Conv2d(144, 144, kernel_size=(3, 3), stride=(1, 1), padding=(1, 1), groups=144, bias=False)\n",
            "          (1): BatchNorm2d(144, eps=1e-05, momentum=0.1, affine=True, track_running_stats=True)\n",
            "          (2): ReLU6(inplace=True)\n",
            "        )\n",
            "        (2): Conv2d(144, 24, kernel_size=(1, 1), stride=(1, 1), bias=False)\n",
            "        (3): BatchNorm2d(24, eps=1e-05, momentum=0.1, affine=True, track_running_stats=True)\n",
            "      )\n",
            "    )\n",
            "    (4): InvertedResidual(\n",
            "      (conv): Sequential(\n",
            "        (0): Conv2dNormActivation(\n",
            "          (0): Conv2d(24, 144, kernel_size=(1, 1), stride=(1, 1), bias=False)\n",
            "          (1): BatchNorm2d(144, eps=1e-05, momentum=0.1, affine=True, track_running_stats=True)\n",
            "          (2): ReLU6(inplace=True)\n",
            "        )\n",
            "        (1): Conv2dNormActivation(\n",
            "          (0): Conv2d(144, 144, kernel_size=(3, 3), stride=(2, 2), padding=(1, 1), groups=144, bias=False)\n",
            "          (1): BatchNorm2d(144, eps=1e-05, momentum=0.1, affine=True, track_running_stats=True)\n",
            "          (2): ReLU6(inplace=True)\n",
            "        )\n",
            "        (2): Conv2d(144, 32, kernel_size=(1, 1), stride=(1, 1), bias=False)\n",
            "        (3): BatchNorm2d(32, eps=1e-05, momentum=0.1, affine=True, track_running_stats=True)\n",
            "      )\n",
            "    )\n",
            "    (5): InvertedResidual(\n",
            "      (conv): Sequential(\n",
            "        (0): Conv2dNormActivation(\n",
            "          (0): Conv2d(32, 192, kernel_size=(1, 1), stride=(1, 1), bias=False)\n",
            "          (1): BatchNorm2d(192, eps=1e-05, momentum=0.1, affine=True, track_running_stats=True)\n",
            "          (2): ReLU6(inplace=True)\n",
            "        )\n",
            "        (1): Conv2dNormActivation(\n",
            "          (0): Conv2d(192, 192, kernel_size=(3, 3), stride=(1, 1), padding=(1, 1), groups=192, bias=False)\n",
            "          (1): BatchNorm2d(192, eps=1e-05, momentum=0.1, affine=True, track_running_stats=True)\n",
            "          (2): ReLU6(inplace=True)\n",
            "        )\n",
            "        (2): Conv2d(192, 32, kernel_size=(1, 1), stride=(1, 1), bias=False)\n",
            "        (3): BatchNorm2d(32, eps=1e-05, momentum=0.1, affine=True, track_running_stats=True)\n",
            "      )\n",
            "    )\n",
            "    (6): InvertedResidual(\n",
            "      (conv): Sequential(\n",
            "        (0): Conv2dNormActivation(\n",
            "          (0): Conv2d(32, 192, kernel_size=(1, 1), stride=(1, 1), bias=False)\n",
            "          (1): BatchNorm2d(192, eps=1e-05, momentum=0.1, affine=True, track_running_stats=True)\n",
            "          (2): ReLU6(inplace=True)\n",
            "        )\n",
            "        (1): Conv2dNormActivation(\n",
            "          (0): Conv2d(192, 192, kernel_size=(3, 3), stride=(1, 1), padding=(1, 1), groups=192, bias=False)\n",
            "          (1): BatchNorm2d(192, eps=1e-05, momentum=0.1, affine=True, track_running_stats=True)\n",
            "          (2): ReLU6(inplace=True)\n",
            "        )\n",
            "        (2): Conv2d(192, 32, kernel_size=(1, 1), stride=(1, 1), bias=False)\n",
            "        (3): BatchNorm2d(32, eps=1e-05, momentum=0.1, affine=True, track_running_stats=True)\n",
            "      )\n",
            "    )\n",
            "    (7): InvertedResidual(\n",
            "      (conv): Sequential(\n",
            "        (0): Conv2dNormActivation(\n",
            "          (0): Conv2d(32, 192, kernel_size=(1, 1), stride=(1, 1), bias=False)\n",
            "          (1): BatchNorm2d(192, eps=1e-05, momentum=0.1, affine=True, track_running_stats=True)\n",
            "          (2): ReLU6(inplace=True)\n",
            "        )\n",
            "        (1): Conv2dNormActivation(\n",
            "          (0): Conv2d(192, 192, kernel_size=(3, 3), stride=(2, 2), padding=(1, 1), groups=192, bias=False)\n",
            "          (1): BatchNorm2d(192, eps=1e-05, momentum=0.1, affine=True, track_running_stats=True)\n",
            "          (2): ReLU6(inplace=True)\n",
            "        )\n",
            "        (2): Conv2d(192, 64, kernel_size=(1, 1), stride=(1, 1), bias=False)\n",
            "        (3): BatchNorm2d(64, eps=1e-05, momentum=0.1, affine=True, track_running_stats=True)\n",
            "      )\n",
            "    )\n",
            "    (8): InvertedResidual(\n",
            "      (conv): Sequential(\n",
            "        (0): Conv2dNormActivation(\n",
            "          (0): Conv2d(64, 384, kernel_size=(1, 1), stride=(1, 1), bias=False)\n",
            "          (1): BatchNorm2d(384, eps=1e-05, momentum=0.1, affine=True, track_running_stats=True)\n",
            "          (2): ReLU6(inplace=True)\n",
            "        )\n",
            "        (1): Conv2dNormActivation(\n",
            "          (0): Conv2d(384, 384, kernel_size=(3, 3), stride=(1, 1), padding=(1, 1), groups=384, bias=False)\n",
            "          (1): BatchNorm2d(384, eps=1e-05, momentum=0.1, affine=True, track_running_stats=True)\n",
            "          (2): ReLU6(inplace=True)\n",
            "        )\n",
            "        (2): Conv2d(384, 64, kernel_size=(1, 1), stride=(1, 1), bias=False)\n",
            "        (3): BatchNorm2d(64, eps=1e-05, momentum=0.1, affine=True, track_running_stats=True)\n",
            "      )\n",
            "    )\n",
            "    (9): InvertedResidual(\n",
            "      (conv): Sequential(\n",
            "        (0): Conv2dNormActivation(\n",
            "          (0): Conv2d(64, 384, kernel_size=(1, 1), stride=(1, 1), bias=False)\n",
            "          (1): BatchNorm2d(384, eps=1e-05, momentum=0.1, affine=True, track_running_stats=True)\n",
            "          (2): ReLU6(inplace=True)\n",
            "        )\n",
            "        (1): Conv2dNormActivation(\n",
            "          (0): Conv2d(384, 384, kernel_size=(3, 3), stride=(1, 1), padding=(1, 1), groups=384, bias=False)\n",
            "          (1): BatchNorm2d(384, eps=1e-05, momentum=0.1, affine=True, track_running_stats=True)\n",
            "          (2): ReLU6(inplace=True)\n",
            "        )\n",
            "        (2): Conv2d(384, 64, kernel_size=(1, 1), stride=(1, 1), bias=False)\n",
            "        (3): BatchNorm2d(64, eps=1e-05, momentum=0.1, affine=True, track_running_stats=True)\n",
            "      )\n",
            "    )\n",
            "    (10): InvertedResidual(\n",
            "      (conv): Sequential(\n",
            "        (0): Conv2dNormActivation(\n",
            "          (0): Conv2d(64, 384, kernel_size=(1, 1), stride=(1, 1), bias=False)\n",
            "          (1): BatchNorm2d(384, eps=1e-05, momentum=0.1, affine=True, track_running_stats=True)\n",
            "          (2): ReLU6(inplace=True)\n",
            "        )\n",
            "        (1): Conv2dNormActivation(\n",
            "          (0): Conv2d(384, 384, kernel_size=(3, 3), stride=(1, 1), padding=(1, 1), groups=384, bias=False)\n",
            "          (1): BatchNorm2d(384, eps=1e-05, momentum=0.1, affine=True, track_running_stats=True)\n",
            "          (2): ReLU6(inplace=True)\n",
            "        )\n",
            "        (2): Conv2d(384, 64, kernel_size=(1, 1), stride=(1, 1), bias=False)\n",
            "        (3): BatchNorm2d(64, eps=1e-05, momentum=0.1, affine=True, track_running_stats=True)\n",
            "      )\n",
            "    )\n",
            "    (11): InvertedResidual(\n",
            "      (conv): Sequential(\n",
            "        (0): Conv2dNormActivation(\n",
            "          (0): Conv2d(64, 384, kernel_size=(1, 1), stride=(1, 1), bias=False)\n",
            "          (1): BatchNorm2d(384, eps=1e-05, momentum=0.1, affine=True, track_running_stats=True)\n",
            "          (2): ReLU6(inplace=True)\n",
            "        )\n",
            "        (1): Conv2dNormActivation(\n",
            "          (0): Conv2d(384, 384, kernel_size=(3, 3), stride=(1, 1), padding=(1, 1), groups=384, bias=False)\n",
            "          (1): BatchNorm2d(384, eps=1e-05, momentum=0.1, affine=True, track_running_stats=True)\n",
            "          (2): ReLU6(inplace=True)\n",
            "        )\n",
            "        (2): Conv2d(384, 96, kernel_size=(1, 1), stride=(1, 1), bias=False)\n",
            "        (3): BatchNorm2d(96, eps=1e-05, momentum=0.1, affine=True, track_running_stats=True)\n",
            "      )\n",
            "    )\n",
            "    (12): InvertedResidual(\n",
            "      (conv): Sequential(\n",
            "        (0): Conv2dNormActivation(\n",
            "          (0): Conv2d(96, 576, kernel_size=(1, 1), stride=(1, 1), bias=False)\n",
            "          (1): BatchNorm2d(576, eps=1e-05, momentum=0.1, affine=True, track_running_stats=True)\n",
            "          (2): ReLU6(inplace=True)\n",
            "        )\n",
            "        (1): Conv2dNormActivation(\n",
            "          (0): Conv2d(576, 576, kernel_size=(3, 3), stride=(1, 1), padding=(1, 1), groups=576, bias=False)\n",
            "          (1): BatchNorm2d(576, eps=1e-05, momentum=0.1, affine=True, track_running_stats=True)\n",
            "          (2): ReLU6(inplace=True)\n",
            "        )\n",
            "        (2): Conv2d(576, 96, kernel_size=(1, 1), stride=(1, 1), bias=False)\n",
            "        (3): BatchNorm2d(96, eps=1e-05, momentum=0.1, affine=True, track_running_stats=True)\n",
            "      )\n",
            "    )\n",
            "    (13): InvertedResidual(\n",
            "      (conv): Sequential(\n",
            "        (0): Conv2dNormActivation(\n",
            "          (0): Conv2d(96, 576, kernel_size=(1, 1), stride=(1, 1), bias=False)\n",
            "          (1): BatchNorm2d(576, eps=1e-05, momentum=0.1, affine=True, track_running_stats=True)\n",
            "          (2): ReLU6(inplace=True)\n",
            "        )\n",
            "        (1): Conv2dNormActivation(\n",
            "          (0): Conv2d(576, 576, kernel_size=(3, 3), stride=(1, 1), padding=(1, 1), groups=576, bias=False)\n",
            "          (1): BatchNorm2d(576, eps=1e-05, momentum=0.1, affine=True, track_running_stats=True)\n",
            "          (2): ReLU6(inplace=True)\n",
            "        )\n",
            "        (2): Conv2d(576, 96, kernel_size=(1, 1), stride=(1, 1), bias=False)\n",
            "        (3): BatchNorm2d(96, eps=1e-05, momentum=0.1, affine=True, track_running_stats=True)\n",
            "      )\n",
            "    )\n",
            "    (14): InvertedResidual(\n",
            "      (conv): Sequential(\n",
            "        (0): Conv2dNormActivation(\n",
            "          (0): Conv2d(96, 576, kernel_size=(1, 1), stride=(1, 1), bias=False)\n",
            "          (1): BatchNorm2d(576, eps=1e-05, momentum=0.1, affine=True, track_running_stats=True)\n",
            "          (2): ReLU6(inplace=True)\n",
            "        )\n",
            "        (1): Conv2dNormActivation(\n",
            "          (0): Conv2d(576, 576, kernel_size=(3, 3), stride=(2, 2), padding=(1, 1), groups=576, bias=False)\n",
            "          (1): BatchNorm2d(576, eps=1e-05, momentum=0.1, affine=True, track_running_stats=True)\n",
            "          (2): ReLU6(inplace=True)\n",
            "        )\n",
            "        (2): Conv2d(576, 160, kernel_size=(1, 1), stride=(1, 1), bias=False)\n",
            "        (3): BatchNorm2d(160, eps=1e-05, momentum=0.1, affine=True, track_running_stats=True)\n",
            "      )\n",
            "    )\n",
            "    (15): InvertedResidual(\n",
            "      (conv): Sequential(\n",
            "        (0): Conv2dNormActivation(\n",
            "          (0): Conv2d(160, 960, kernel_size=(1, 1), stride=(1, 1), bias=False)\n",
            "          (1): BatchNorm2d(960, eps=1e-05, momentum=0.1, affine=True, track_running_stats=True)\n",
            "          (2): ReLU6(inplace=True)\n",
            "        )\n",
            "        (1): Conv2dNormActivation(\n",
            "          (0): Conv2d(960, 960, kernel_size=(3, 3), stride=(1, 1), padding=(1, 1), groups=960, bias=False)\n",
            "          (1): BatchNorm2d(960, eps=1e-05, momentum=0.1, affine=True, track_running_stats=True)\n",
            "          (2): ReLU6(inplace=True)\n",
            "        )\n",
            "        (2): Conv2d(960, 160, kernel_size=(1, 1), stride=(1, 1), bias=False)\n",
            "        (3): BatchNorm2d(160, eps=1e-05, momentum=0.1, affine=True, track_running_stats=True)\n",
            "      )\n",
            "    )\n",
            "    (16): InvertedResidual(\n",
            "      (conv): Sequential(\n",
            "        (0): Conv2dNormActivation(\n",
            "          (0): Conv2d(160, 960, kernel_size=(1, 1), stride=(1, 1), bias=False)\n",
            "          (1): BatchNorm2d(960, eps=1e-05, momentum=0.1, affine=True, track_running_stats=True)\n",
            "          (2): ReLU6(inplace=True)\n",
            "        )\n",
            "        (1): Conv2dNormActivation(\n",
            "          (0): Conv2d(960, 960, kernel_size=(3, 3), stride=(1, 1), padding=(1, 1), groups=960, bias=False)\n",
            "          (1): BatchNorm2d(960, eps=1e-05, momentum=0.1, affine=True, track_running_stats=True)\n",
            "          (2): ReLU6(inplace=True)\n",
            "        )\n",
            "        (2): Conv2d(960, 160, kernel_size=(1, 1), stride=(1, 1), bias=False)\n",
            "        (3): BatchNorm2d(160, eps=1e-05, momentum=0.1, affine=True, track_running_stats=True)\n",
            "      )\n",
            "    )\n",
            "    (17): InvertedResidual(\n",
            "      (conv): Sequential(\n",
            "        (0): Conv2dNormActivation(\n",
            "          (0): Conv2d(160, 960, kernel_size=(1, 1), stride=(1, 1), bias=False)\n",
            "          (1): BatchNorm2d(960, eps=1e-05, momentum=0.1, affine=True, track_running_stats=True)\n",
            "          (2): ReLU6(inplace=True)\n",
            "        )\n",
            "        (1): Conv2dNormActivation(\n",
            "          (0): Conv2d(960, 960, kernel_size=(3, 3), stride=(1, 1), padding=(1, 1), groups=960, bias=False)\n",
            "          (1): BatchNorm2d(960, eps=1e-05, momentum=0.1, affine=True, track_running_stats=True)\n",
            "          (2): ReLU6(inplace=True)\n",
            "        )\n",
            "        (2): Conv2d(960, 320, kernel_size=(1, 1), stride=(1, 1), bias=False)\n",
            "        (3): BatchNorm2d(320, eps=1e-05, momentum=0.1, affine=True, track_running_stats=True)\n",
            "      )\n",
            "    )\n",
            "    (18): Conv2dNormActivation(\n",
            "      (0): Conv2d(320, 1280, kernel_size=(1, 1), stride=(1, 1), bias=False)\n",
            "      (1): BatchNorm2d(1280, eps=1e-05, momentum=0.1, affine=True, track_running_stats=True)\n",
            "      (2): ReLU6(inplace=True)\n",
            "    )\n",
            "  )\n",
            "  (classifier): Sequential(\n",
            "    (0): Dropout(p=0.2, inplace=False)\n",
            "    (1): Linear(in_features=1280, out_features=7000, bias=True)\n",
            "  )\n",
            ")\n"
          ]
        }
      ],
      "source": [
        "# Set the number of output classes based on the dataset\n",
        "num_classes = len(class_names)\n",
        "\n",
        "# Load the pretrained MobileNetV2 model\n",
        "model = models.mobilenet_v2(pretrained=True)\n",
        "\n",
        "# Modify the classifier to match the number of classes in your dataset\n",
        "model.classifier[1] = nn.Linear(model.classifier[1].in_features, num_classes)\n",
        "\n",
        "# Move the model to GPU if available (else use CPU)\n",
        "device = torch.device(\"cuda\" if torch.cuda.is_available() else \"cpu\")\n",
        "model = model.to(device)\n",
        "\n",
        "# Print the model architecture summary to verify the changes\n",
        "print(model)\n"
      ]
    },
    {
      "cell_type": "markdown",
      "metadata": {
        "id": "-LzhmyPtTiHs"
      },
      "source": [
        "Optimizer, Loss Function, and Training Loop Setup"
      ]
    },
    {
      "cell_type": "code",
      "execution_count": null,
      "metadata": {
        "id": "yUVEFMbaTiHs"
      },
      "outputs": [],
      "source": [
        "# Initialize the optimizer using Adam with a learning rate of 0.001\n",
        "optimizer = optim.Adam(model.parameters(), lr=0.001)\n",
        "\n",
        "# Define the loss function as Cross-Entropy Loss (suitable for classification tasks)\n",
        "criterion = nn.CrossEntropyLoss()\n",
        "\n",
        "# Set the number of epochs for training\n",
        "num_epochs = 20\n"
      ]
    },
    {
      "cell_type": "markdown",
      "metadata": {
        "id": "mKv9ZdF2TiHt"
      },
      "source": [
        "Checkpoint Saving Function"
      ]
    },
    {
      "cell_type": "code",
      "execution_count": null,
      "metadata": {
        "execution": {
          "iopub.execute_input": "2025-04-13T05:26:14.821423Z",
          "iopub.status.busy": "2025-04-13T05:26:14.821213Z",
          "iopub.status.idle": "2025-04-13T05:26:14.825693Z",
          "shell.execute_reply": "2025-04-13T05:26:14.824864Z",
          "shell.execute_reply.started": "2025-04-13T05:26:14.821405Z"
        },
        "trusted": true,
        "id": "jaxFCk-ITiHt"
      },
      "outputs": [],
      "source": [
        "def save_checkpoint(model, optimizer, epoch, loss, path=\"checkpoint.pth\"):\n",
        "    torch.save({\n",
        "        'epoch': epoch,\n",
        "        'model_state_dict': model.state_dict(),  # Save model weights\n",
        "        'optimizer_state_dict': optimizer.state_dict(),  # Save optimizer state\n",
        "        'loss': loss  # Save the loss for the current epoch\n",
        "    }, path)"
      ]
    },
    {
      "cell_type": "markdown",
      "metadata": {
        "id": "sAfzSchyTiHt"
      },
      "source": [
        "Training Loop with Metrics and Checkpoint Saving\n",
        "\n"
      ]
    },
    {
      "cell_type": "code",
      "execution_count": null,
      "metadata": {
        "execution": {
          "execution_failed": "2025-04-13T08:44:01.087Z",
          "iopub.execute_input": "2025-04-13T05:44:33.509125Z",
          "iopub.status.busy": "2025-04-13T05:44:33.508319Z"
        },
        "trusted": true,
        "id": "mA-KP1vPTiHu",
        "outputId": "cbd1e2bf-c3bb-41dc-89a0-a69bc8682bfa"
      },
      "outputs": [
        {
          "name": "stderr",
          "output_type": "stream",
          "text": [
            "                                                                                                   \r"
          ]
        },
        {
          "name": "stdout",
          "output_type": "stream",
          "text": [
            "[Epoch 1] Train Loss: 7.9830 | Top-1 Acc: 0.12% | Top-5 Acc: 0.59% || Val Loss: 7.4652 | Top-1 Acc: 0.34% | Top-5 Acc: 1.54%\n",
            "[INFO] Checkpoint saved at checkpoint_epoch_1.pth\n"
          ]
        },
        {
          "name": "stderr",
          "output_type": "stream",
          "text": [
            "                                                                                                 \r"
          ]
        },
        {
          "name": "stdout",
          "output_type": "stream",
          "text": [
            "[Epoch 2] Train Loss: 6.9869 | Top-1 Acc: 0.85% | Top-5 Acc: 3.47% || Val Loss: 6.5300 | Top-1 Acc: 2.10% | Top-5 Acc: 7.51%\n",
            "[INFO] Checkpoint saved at checkpoint_epoch_2.pth\n"
          ]
        },
        {
          "name": "stderr",
          "output_type": "stream",
          "text": [
            "                                                                                                \r"
          ]
        },
        {
          "name": "stdout",
          "output_type": "stream",
          "text": [
            "[Epoch 3] Train Loss: 6.0501 | Top-1 Acc: 3.60% | Top-5 Acc: 11.68% || Val Loss: 5.7425 | Top-1 Acc: 6.26% | Top-5 Acc: 17.94%\n",
            "[INFO] Checkpoint saved at checkpoint_epoch_3.pth\n"
          ]
        },
        {
          "name": "stderr",
          "output_type": "stream",
          "text": [
            "                                                                                                \r"
          ]
        },
        {
          "name": "stdout",
          "output_type": "stream",
          "text": [
            "[Epoch 6] Train Loss: 3.9081 | Top-1 Acc: 24.49% | Top-5 Acc: 47.53% || Val Loss: 4.3496 | Top-1 Acc: 22.68% | Top-5 Acc: 42.89%\n",
            "[INFO] Checkpoint saved at checkpoint_epoch_6.pth\n"
          ]
        },
        {
          "name": "stderr",
          "output_type": "stream",
          "text": [
            "                                                                                                \r"
          ]
        },
        {
          "name": "stdout",
          "output_type": "stream",
          "text": [
            "[Epoch 7] Train Loss: 3.4068 | Top-1 Acc: 32.30% | Top-5 Acc: 56.19% || Val Loss: 3.9525 | Top-1 Acc: 28.97% | Top-5 Acc: 50.15%\n",
            "[INFO] Checkpoint saved at checkpoint_epoch_7.pth\n"
          ]
        },
        {
          "name": "stderr",
          "output_type": "stream",
          "text": [
            "                                                                                                \r"
          ]
        },
        {
          "name": "stdout",
          "output_type": "stream",
          "text": [
            "[Epoch 9] Train Loss: 2.6116 | Top-1 Acc: 45.93% | Top-5 Acc: 69.39% || Val Loss: 3.4818 | Top-1 Acc: 36.54% | Top-5 Acc: 57.69%\n",
            "[INFO] Checkpoint saved at checkpoint_epoch_9.pth\n"
          ]
        },
        {
          "name": "stderr",
          "output_type": "stream",
          "text": [
            "                                                                                                 \r"
          ]
        },
        {
          "name": "stdout",
          "output_type": "stream",
          "text": [
            "[Epoch 10] Train Loss: 2.2856 | Top-1 Acc: 51.61% | Top-5 Acc: 74.10% || Val Loss: 3.4195 | Top-1 Acc: 39.97% | Top-5 Acc: 60.69%\n",
            "[INFO] Checkpoint saved at checkpoint_epoch_10.pth\n"
          ]
        },
        {
          "name": "stderr",
          "output_type": "stream",
          "text": [
            "                                                                                                 \r"
          ]
        },
        {
          "name": "stdout",
          "output_type": "stream",
          "text": [
            "[Epoch 11] Train Loss: 2.0170 | Top-1 Acc: 56.76% | Top-5 Acc: 78.13% || Val Loss: 3.3652 | Top-1 Acc: 40.73% | Top-5 Acc: 61.23%\n",
            "[INFO] Checkpoint saved at checkpoint_epoch_11.pth\n"
          ]
        },
        {
          "name": "stderr",
          "output_type": "stream",
          "text": [
            "                                                                                                 \r"
          ]
        },
        {
          "name": "stdout",
          "output_type": "stream",
          "text": [
            "[Epoch 12] Train Loss: 1.7866 | Top-1 Acc: 61.10% | Top-5 Acc: 81.27% || Val Loss: 3.1446 | Top-1 Acc: 44.27% | Top-5 Acc: 64.68%\n",
            "[INFO] Checkpoint saved at checkpoint_epoch_12.pth\n"
          ]
        },
        {
          "name": "stderr",
          "output_type": "stream",
          "text": [
            "                                                                                                  \r"
          ]
        },
        {
          "name": "stdout",
          "output_type": "stream",
          "text": [
            "[Epoch 14] Train Loss: 1.4027 | Top-1 Acc: 68.45% | Top-5 Acc: 86.40% || Val Loss: 3.1032 | Top-1 Acc: 47.59% | Top-5 Acc: 67.45%\n",
            "[INFO] Checkpoint saved at checkpoint_epoch_14.pth\n"
          ]
        },
        {
          "name": "stderr",
          "output_type": "stream",
          "text": [
            "                                                                                                  \r"
          ]
        },
        {
          "name": "stdout",
          "output_type": "stream",
          "text": [
            "[Epoch 15] Train Loss: 1.2475 | Top-1 Acc: 71.55% | Top-5 Acc: 88.31% || Val Loss: 3.0002 | Top-1 Acc: 48.48% | Top-5 Acc: 68.21%\n",
            "[INFO] Checkpoint saved at checkpoint_epoch_15.pth\n"
          ]
        },
        {
          "name": "stderr",
          "output_type": "stream",
          "text": [
            "                                                                                                  \r"
          ]
        },
        {
          "name": "stdout",
          "output_type": "stream",
          "text": [
            "[Epoch 16] Train Loss: 1.1088 | Top-1 Acc: 74.61% | Top-5 Acc: 89.96% || Val Loss: 3.0951 | Top-1 Acc: 48.81% | Top-5 Acc: 68.59%\n",
            "[INFO] Checkpoint saved at checkpoint_epoch_16.pth\n"
          ]
        },
        {
          "name": "stderr",
          "output_type": "stream",
          "text": [
            "                                                                                                  \r"
          ]
        },
        {
          "name": "stdout",
          "output_type": "stream",
          "text": [
            "[Epoch 17] Train Loss: 0.9918 | Top-1 Acc: 76.86% | Top-5 Acc: 91.29% || Val Loss: 3.1014 | Top-1 Acc: 49.93% | Top-5 Acc: 68.88%\n",
            "[INFO] Checkpoint saved at checkpoint_epoch_17.pth\n"
          ]
        },
        {
          "name": "stderr",
          "output_type": "stream",
          "text": [
            "                                                                                                  \r"
          ]
        },
        {
          "name": "stdout",
          "output_type": "stream",
          "text": [
            "[Epoch 18] Train Loss: 0.8863 | Top-1 Acc: 79.00% | Top-5 Acc: 92.44% || Val Loss: 3.1071 | Top-1 Acc: 50.95% | Top-5 Acc: 70.09%\n",
            "[INFO] Checkpoint saved at checkpoint_epoch_18.pth\n"
          ]
        },
        {
          "name": "stderr",
          "output_type": "stream",
          "text": [
            "Epoch 19/20:  27%|██▋       | 475/1750 [01:55<05:09,  4.12it/s, loss=0.692, top1=83, top5=94.3]  "
          ]
        }
      ],
      "source": [
        "# Initialize lists to store metrics for visualization\n",
        "train_losses = []\n",
        "train_top1_accs = []\n",
        "train_top5_accs = []\n",
        "val_losses = []\n",
        "val_top1_accs = []\n",
        "val_top5_accs = []\n",
        "\n",
        "# Training Loop\n",
        "for epoch in range(num_epochs):\n",
        "    model.train()  # Set the model to training mode\n",
        "    running_loss = 0.0\n",
        "    correct_top1 = 0\n",
        "    correct_top5 = 0\n",
        "    total = 0\n",
        "\n",
        "    # Progress bar for training set\n",
        "    train_loader_tqdm = tqdm(train_loader, desc=f\"Epoch {epoch+1}/{num_epochs}\", leave=False)\n",
        "\n",
        "    for inputs, labels in train_loader_tqdm:\n",
        "        inputs, labels = inputs.to(device), labels.to(device)\n",
        "\n",
        "        optimizer.zero_grad()  # Zero the gradients\n",
        "        outputs = model(inputs)  # Forward pass\n",
        "        loss = criterion(outputs, labels)  # Compute loss\n",
        "        loss.backward()  # Backpropagation\n",
        "        optimizer.step()  # Optimizer step\n",
        "\n",
        "        running_loss += loss.item()  # Accumulate the loss\n",
        "        total += labels.size(0)  # Accumulate the number of samples\n",
        "\n",
        "        # Top-1 Accuracy\n",
        "        _, top1_preds = torch.max(outputs, 1)\n",
        "        correct_top1 += (top1_preds == labels).sum().item()\n",
        "\n",
        "        # Top-5 Accuracy\n",
        "        _, top5_preds = outputs.topk(5, dim=1)\n",
        "        correct_top5 += top5_preds.eq(labels.view(-1, 1).expand_as(top5_preds)).any(dim=1).sum().item()\n",
        "\n",
        "        # Update progress bar with current loss and accuracies\n",
        "        train_loader_tqdm.set_postfix(loss=loss.item(),\n",
        "                                      top1=100 * correct_top1 / total,\n",
        "                                      top5=100 * correct_top5 / total)\n",
        "\n",
        "    # Validation Phase (no gradient updates)\n",
        "    model.eval()  # Set model to evaluation mode\n",
        "    val_loss = 0.0\n",
        "    val_correct_top1 = 0\n",
        "    val_correct_top5 = 0\n",
        "    val_total = 0\n",
        "\n",
        "    with torch.no_grad():  # Disable gradient tracking for validation\n",
        "        for inputs, labels in val_loader:\n",
        "            inputs, labels = inputs.to(device), labels.to(device)\n",
        "            outputs = model(inputs)  # Forward pass\n",
        "            loss = criterion(outputs, labels)  # Compute loss\n",
        "            val_loss += loss.item()  # Accumulate validation loss\n",
        "            val_total += labels.size(0)  # Accumulate validation samples\n",
        "\n",
        "            # Top-1 Accuracy (Validation)\n",
        "            _, val_top1_preds = torch.max(outputs, 1)\n",
        "            val_correct_top1 += (val_top1_preds == labels).sum().item()\n",
        "\n",
        "            # Top-5 Accuracy (Validation)\n",
        "            _, val_top5_preds = outputs.topk(5, dim=1)\n",
        "            val_correct_top5 += val_top5_preds.eq(labels.view(-1, 1).expand_as(val_top5_preds)).any(dim=1).sum().item()\n",
        "\n",
        "    # Epoch Summary\n",
        "    avg_train_loss = running_loss / len(train_loader)  # Average training loss\n",
        "    train_top1_acc = 100 * correct_top1 / total  # Top-1 training accuracy\n",
        "    train_top5_acc = 100 * correct_top5 / total  # Top-5 training accuracy\n",
        "    avg_val_loss = val_loss / len(val_loader)  # Average validation loss\n",
        "    val_top1_acc = 100 * val_correct_top1 / val_total  # Top-1 validation accuracy\n",
        "    val_top5_acc = 100 * val_correct_top5 / val_total  # Top-5 validation accuracy\n",
        "\n",
        "    # Store metrics for visualization\n",
        "    train_losses.append(avg_train_loss)\n",
        "    train_top1_accs.append(train_top1_acc)\n",
        "    train_top5_accs.append(train_top5_acc)\n",
        "    val_losses.append(avg_val_loss)\n",
        "    val_top1_accs.append(val_top1_acc)\n",
        "    val_top5_accs.append(val_top5_acc)\n",
        "\n",
        "    # Print epoch summary\n",
        "    print(f\"[Epoch {epoch+1}] \"\n",
        "          f\"Train Loss: {avg_train_loss:.4f} | Top-1 Acc: {train_top1_acc:.2f}% | Top-5 Acc: {train_top5_acc:.2f}% || \"\n",
        "          f\"Val Loss: {avg_val_loss:.4f} | Top-1 Acc: {val_top1_acc:.2f}% | Top-5 Acc: {val_top5_acc:.2f}%\")\n",
        "\n",
        "    # Save checkpoint after each epoch\n",
        "    checkpoint_path = f\"checkpoint_epoch_{epoch+1}.pth\"\n",
        "    save_checkpoint(model, optimizer, epoch+1, avg_val_loss, checkpoint_path)\n",
        "    print(f\"[INFO] Checkpoint saved at {checkpoint_path}\")\n"
      ]
    },
    {
      "cell_type": "markdown",
      "source": [
        "Loss Over Epochs Visualization"
      ],
      "metadata": {
        "id": "6ARsX5U8VAsV"
      }
    },
    {
      "cell_type": "code",
      "execution_count": 2,
      "metadata": {
        "execution": {
          "iopub.execute_input": "2025-04-14T17:01:32.752236Z",
          "iopub.status.busy": "2025-04-14T17:01:32.751562Z",
          "iopub.status.idle": "2025-04-14T17:01:33.566342Z",
          "shell.execute_reply": "2025-04-14T17:01:33.565515Z",
          "shell.execute_reply.started": "2025-04-14T17:01:32.752212Z"
        },
        "trusted": true,
        "colab": {
          "base_uri": "https://localhost:8080/",
          "height": 452
        },
        "id": "U2kssZCnTiHx",
        "outputId": "9c5c3867-308c-4a99-dc39-bbaf0a583ac2"
      },
      "outputs": [
        {
          "output_type": "display_data",
          "data": {
            "text/plain": [
              "<Figure size 1600x1000 with 1 Axes>"
            ],
            "image/png": "[encoded data removed]"
          },
          "metadata": {}
        }
      ],
      "source": [
        "plt.figure(figsize=(16, 10))\n",
        "plt.subplot(2, 2, 1)\n",
        "plt.plot(epochs, train_losses, label='Train Loss', marker='o')\n",
        "plt.plot(epochs, val_losses, label='Val Loss', marker='o')\n",
        "plt.title('Loss Over Epochs')\n",
        "plt.xlabel('Epoch')\n",
        "plt.ylabel('Loss')\n",
        "plt.legend()\n",
        "plt.grid(True)\n",
        "plt.show()\n"
      ]
    },
    {
      "cell_type": "markdown",
      "source": [
        "Top-1 Accuracy Over Epochs Visualization"
      ],
      "metadata": {
        "id": "JJ6iioltVGdG"
      }
    },
    {
      "cell_type": "code",
      "source": [
        "plt.figure(figsize=(16, 10))\n",
        "plt.subplot(2, 2, 2)\n",
        "plt.plot(epochs, train_top1, label='Train Top-1 Acc', marker='o')\n",
        "plt.plot(epochs, val_top1, label='Val Top-1 Acc', marker='o')\n",
        "plt.title('Top-1 Accuracy Over Epochs')\n",
        "plt.xlabel('Epoch')\n",
        "plt.ylabel('Accuracy (%)')\n",
        "plt.legend()\n",
        "plt.grid(True)\n",
        "plt.show()\n",
        "plt.show()"
      ],
      "metadata": {
        "colab": {
          "base_uri": "https://localhost:8080/",
          "height": 452
        },
        "id": "q4vL1lJSUVQi",
        "outputId": "144d11fa-0a56-4701-8b67-f7ae733e1f31"
      },
      "execution_count": 5,
      "outputs": [
        {
          "output_type": "display_data",
          "data": {
            "text/plain": [
              "<Figure size 1600x1000 with 1 Axes>"
            ],
            "image/png": "[encoded data removed]"
          },
          "metadata": {}
        }
      ]
    },
    {
      "cell_type": "markdown",
      "source": [
        "Top-5 Accuracy Over Epochs Visualization"
      ],
      "metadata": {
        "id": "0LvAnWsmVMeM"
      }
    },
    {
      "cell_type": "code",
      "source": [
        "plt.figure(figsize=(16, 10))\n",
        "plt.subplot(2, 2, 3)\n",
        "plt.plot(epochs, train_top5, label='Train Top-5 Acc', marker='o')\n",
        "plt.plot(epochs, val_top5, label='Val Top-5 Acc', marker='o')\n",
        "plt.title('Top-5 Accuracy Over Epochs')\n",
        "plt.xlabel('Epoch')\n",
        "plt.ylabel('Accuracy (%)')\n",
        "plt.legend()\n",
        "plt.grid(True)\n",
        "plt.show()"
      ],
      "metadata": {
        "colab": {
          "base_uri": "https://localhost:8080/",
          "height": 452
        },
        "id": "QSRoL9lJUYcb",
        "outputId": "b69516ba-d48c-4061-8551-59bb515cc6f9"
      },
      "execution_count": 6,
      "outputs": [
        {
          "output_type": "display_data",
          "data": {
            "text/plain": [
              "<Figure size 1600x1000 with 1 Axes>"
            ],
            "image/png": "[encoded data removed]"
          },
          "metadata": {}
        }
      ]
    },
    {
      "cell_type": "markdown",
      "source": [
        "Highlighting Potential Overfitting (Top-1 Accuracy Gap)"
      ],
      "metadata": {
        "id": "1J0q_LB_VYBQ"
      }
    },
    {
      "cell_type": "code",
      "source": [
        "plt.figure(figsize=(16, 10))\n",
        "plt.subplot(2, 2, 4)\n",
        "gap = [tr - va for tr, va in zip(train_top1, val_top1)]\n",
        "plt.plot(epochs, gap, label='Top-1 Train - Val Gap', color='red', marker='o')\n",
        "plt.axhline(0, linestyle='--', color='gray')\n",
        "plt.title('Top-1 Accuracy Gap (Train - Val)')\n",
        "plt.xlabel('Epoch')\n",
        "plt.ylabel('Gap (%)')\n",
        "plt.legend()\n",
        "plt.grid(True)\n",
        "plt.show()"
      ],
      "metadata": {
        "colab": {
          "base_uri": "https://localhost:8080/",
          "height": 452
        },
        "id": "FTnLoRklUYRf",
        "outputId": "568731b8-8e49-44bf-e96f-5df40ff33f43"
      },
      "execution_count": 7,
      "outputs": [
        {
          "output_type": "display_data",
          "data": {
            "text/plain": [
              "<Figure size 1600x1000 with 1 Axes>"
            ],
            "image/png": "[encoded data removed]"
          },
          "metadata": {}
        }
      ]
    },
    {
      "cell_type": "markdown",
      "source": [
        "Model Evaluation on Test Set"
      ],
      "metadata": {
        "id": "Xs_Thc8QV2sn"
      }
    },
    {
      "cell_type": "code",
      "source": [
        "# Define the evaluate function to calculate accuracy on a given data loader (test or validation)\n",
        "def evaluate(model, data_loader):\n",
        "    # Set the model to evaluation mode\n",
        "    model.eval()\n",
        "    correct = 0\n",
        "    total = 0\n",
        "\n",
        "    # Disable gradient computation for evaluation\n",
        "    with torch.no_grad():\n",
        "        for inputs, labels in data_loader:\n",
        "            # Move inputs and labels to the appropriate device (e.g., GPU)\n",
        "            inputs, labels = inputs.to(device), labels.to(device)\n",
        "\n",
        "            # Perform the forward pass\n",
        "            outputs = model(inputs)\n",
        "\n",
        "            # Get predicted class labels (with the highest probability)\n",
        "            _, predicted = torch.max(outputs, 1)\n",
        "\n",
        "            # Update the total number of samples and the number of correct predictions\n",
        "            total += labels.size(0)\n",
        "            correct += (predicted == labels).sum().item()\n",
        "\n",
        "    # Calculate accuracy as percentage\n",
        "    return 100 * correct / total\n",
        "\n",
        "# Evaluate the model on the test dataset and print the accuracy\n",
        "test_accuracy = evaluate(model, test_loader)\n",
        "print(f\"Test Accuracy: {test_accuracy:.2f}%\")\n"
      ],
      "metadata": {
        "colab": {
          "base_uri": "https://localhost:8080/"
        },
        "id": "zxWBHTloWQTb",
        "outputId": "1100c659-0074-4ee0-a7f8-87913159d19d"
      },
      "execution_count": 8,
      "outputs": [
        {
          "output_type": "stream",
          "name": "stdout",
          "text": [
            "Test Accuracy: 76.78%\n"
          ]
        }
      ]
    },
    {
      "cell_type": "markdown",
      "source": [
        "To use model for inference after training"
      ],
      "metadata": {
        "id": "mtBbxxIlWYgM"
      }
    },
    {
      "cell_type": "markdown",
      "source": [
        "Load Model Checkpoint"
      ],
      "metadata": {
        "id": "ikSoSsYMWyQi"
      }
    },
    {
      "cell_type": "code",
      "execution_count": null,
      "metadata": {
        "execution": {
          "iopub.execute_input": "2025-04-16T14:16:46.423449Z",
          "iopub.status.busy": "2025-04-16T14:16:46.422691Z",
          "iopub.status.idle": "2025-04-16T14:16:48.359540Z",
          "shell.execute_reply": "2025-04-16T14:16:48.359004Z",
          "shell.execute_reply.started": "2025-04-16T14:16:46.423423Z"
        },
        "trusted": true,
        "id": "mN3P_8XlTiHv",
        "outputId": "01861dc7-c9c6-4f2f-80d7-ae412ef8208c"
      },
      "outputs": [
        {
          "name": "stderr",
          "output_type": "stream",
          "text": [
            "/tmp/ipykernel_31/2074209506.py:10: FutureWarning: You are using `torch.load` with `weights_only=False` (the current default value), which uses the default pickle module implicitly. It is possible to construct malicious pickle data which will execute arbitrary code during unpickling (See https://github.com/pytorch/pytorch/blob/main/SECURITY.md#untrusted-models for more details). In a future release, the default value for `weights_only` will be flipped to `True`. This limits the functions that could be executed during unpickling. Arbitrary objects will no longer be allowed to be loaded via this mode unless they are explicitly allowlisted by the user via `torch.serialization.add_safe_globals`. We recommend you start setting `weights_only=True` for any use case where you don't have full control of the loaded file. Please open an issue on GitHub for any issues related to this experimental feature.\n",
            "  checkpoint = torch.load(checkpoint_path)\n"
          ]
        }
      ],
      "source": [
        "checkpoint_path = '/kaggle/input/firstmodel/checkpoint_epoch_15.pth'\n",
        "checkpoint = torch.load(checkpoint_path)"
      ]
    },
    {
      "cell_type": "markdown",
      "source": [
        "Loading Optimizer and loss function"
      ],
      "metadata": {
        "id": "NvFwmkSaW3r7"
      }
    },
    {
      "cell_type": "code",
      "execution_count": null,
      "metadata": {
        "execution": {
          "iopub.execute_input": "2025-04-16T14:17:21.225018Z",
          "iopub.status.busy": "2025-04-16T14:17:21.224716Z",
          "iopub.status.idle": "2025-04-16T14:17:21.229874Z",
          "shell.execute_reply": "2025-04-16T14:17:21.229105Z",
          "shell.execute_reply.started": "2025-04-16T14:17:21.224999Z"
        },
        "trusted": true,
        "id": "wegwsII5TiHv"
      },
      "outputs": [],
      "source": [
        "optimizer = optim.Adam(model.parameters(), lr=0.001)\n",
        "criterion = nn.CrossEntropyLoss()\n"
      ]
    },
    {
      "cell_type": "markdown",
      "source": [
        "Restoring Model and Optimizer from Checkpoint"
      ],
      "metadata": {
        "id": "IM6LYtEKXnlc"
      }
    },
    {
      "cell_type": "code",
      "execution_count": null,
      "metadata": {
        "execution": {
          "iopub.execute_input": "2025-04-16T14:17:27.184907Z",
          "iopub.status.busy": "2025-04-16T14:17:27.184325Z",
          "iopub.status.idle": "2025-04-16T14:17:27.199414Z",
          "shell.execute_reply": "2025-04-16T14:17:27.198801Z",
          "shell.execute_reply.started": "2025-04-16T14:17:27.184888Z"
        },
        "trusted": true,
        "id": "WD1c0RUCTiHw"
      },
      "outputs": [],
      "source": [
        "# Restore the model state from the checkpoint\n",
        "model.load_state_dict(checkpoint['model_state_dict'])  # Load the model's learned weights from the checkpoint\n",
        "\n",
        "# If you want to restore the optimizer's state (e.g., to continue training from where it left off)\n",
        "optimizer.load_state_dict(checkpoint['optimizer_state_dict'])  # Load the optimizer's state (momentum, learning rate, etc.)\n"
      ]
    },
    {
      "cell_type": "markdown",
      "source": [
        "Retrieve and Print Epoch and Loss Information"
      ],
      "metadata": {
        "id": "I678ouegXvje"
      }
    },
    {
      "cell_type": "code",
      "execution_count": null,
      "metadata": {
        "execution": {
          "iopub.execute_input": "2025-04-16T14:17:30.225707Z",
          "iopub.status.busy": "2025-04-16T14:17:30.225424Z",
          "iopub.status.idle": "2025-04-16T14:17:30.230037Z",
          "shell.execute_reply": "2025-04-16T14:17:30.229287Z",
          "shell.execute_reply.started": "2025-04-16T14:17:30.225685Z"
        },
        "trusted": true,
        "id": "GcfBHDmwTiHw",
        "outputId": "ec7345d0-84ad-492c-cbf5-ef5794ec65d0"
      },
      "outputs": [
        {
          "name": "stdout",
          "output_type": "stream",
          "text": [
            "Model loaded from epoch 15 with validation loss 3.0002\n"
          ]
        }
      ],
      "source": [
        "# Optionally, retrieve epoch and loss information from the checkpoint if needed\n",
        "epoch = checkpoint['epoch']  # Retrieve the epoch number when the checkpoint was saved\n",
        "loss = checkpoint['loss']  # Retrieve the loss value at the time of saving the checkpoint\n",
        "\n",
        "# Print the information to confirm which epoch and loss were loaded from the checkpoint\n",
        "print(f\"Model loaded from epoch {epoch} with validation loss {loss:.4f}\")\n"
      ]
    },
    {
      "cell_type": "code",
      "execution_count": null,
      "metadata": {
        "trusted": true,
        "id": "BaUHb6e3TiH0"
      },
      "outputs": [],
      "source": []
    },
    {
      "cell_type": "code",
      "execution_count": null,
      "metadata": {
        "execution": {
          "iopub.execute_input": "2025-04-16T14:24:32.103831Z",
          "iopub.status.busy": "2025-04-16T14:24:32.103510Z",
          "iopub.status.idle": "2025-04-16T14:34:06.999110Z",
          "shell.execute_reply": "2025-04-16T14:34:06.998310Z",
          "shell.execute_reply.started": "2025-04-16T14:24:32.103810Z"
        },
        "trusted": true,
        "id": "kjEsJGfETiH0",
        "outputId": "53f4432f-d78c-409a-dc02-1e438a214b1c"
      },
      "outputs": [
        {
          "name": "stderr",
          "output_type": "stream",
          "text": [
            "Predicting: 100%|██████████| 35000/35000 [09:34<00:00, 60.96it/s]"
          ]
        },
        {
          "name": "stdout",
          "output_type": "stream",
          "text": [
            "[INFO] submission.csv has been saved.\n"
          ]
        },
        {
          "name": "stderr",
          "output_type": "stream",
          "text": [
            "\n"
          ]
        }
      ],
      "source": [
        "import os\n",
        "from PIL import Image\n",
        "import pandas as pd\n",
        "from torchvision import transforms\n",
        "import torch\n",
        "from tqdm import tqdm\n",
        "\n",
        "# Path to test images\n",
        "test_dir = os.path.join(data_dir, 'test')\n",
        "test_image_names = sorted(os.listdir(test_dir))\n",
        "\n",
        "# Set model to eval mode\n",
        "model.eval()\n",
        "\n",
        "# Apply same eval transforms used during validation\n",
        "transform = eval_transform\n",
        "\n",
        "# Store predictions\n",
        "image_ids = []\n",
        "predicted_labels = []\n",
        "\n",
        "with torch.no_grad():\n",
        "    for img_name in tqdm(test_image_names, desc=\"Predicting\"):\n",
        "        img_path = os.path.join(test_dir, img_name)\n",
        "        image = Image.open(img_path).convert(\"RGB\")\n",
        "        image = transform(image).unsqueeze(0).to(device)  # Add batch dimension\n",
        "\n",
        "        outputs = model(image)\n",
        "        _, predicted = torch.max(outputs, 1)\n",
        "        label = class_names[predicted.item()]\n",
        "\n",
        "        image_ids.append(img_name)\n",
        "        predicted_labels.append(label)\n",
        "\n",
        "# Create submission DataFrame\n",
        "submission_df = pd.DataFrame({\n",
        "    'image_name': image_ids,\n",
        "    'label': predicted_labels\n",
        "})\n",
        "\n",
        "# Save to CSV\n",
        "submission_df.to_csv('submission.csv', index=False)\n",
        "print(\"[INFO] submission.csv has been saved.\")\n"
      ]
    },
    {
      "cell_type": "code",
      "execution_count": null,
      "metadata": {
        "trusted": true,
        "id": "EGjDDZV3TiH1"
      },
      "outputs": [],
      "source": []
    },
    {
      "cell_type": "markdown",
      "source": [
        "### Experiment with different combinations"
      ],
      "metadata": {
        "id": "9aE1uGpdZciz"
      }
    },
    {
      "cell_type": "markdown",
      "source": [
        "Model Configuration Setup"
      ],
      "metadata": {
        "id": "v41nK3LDaAKC"
      }
    },
    {
      "cell_type": "code",
      "execution_count": null,
      "metadata": {
        "execution": {
          "iopub.execute_input": "2025-04-15T17:16:00.504452Z",
          "iopub.status.busy": "2025-04-15T17:16:00.504166Z",
          "iopub.status.idle": "2025-04-15T17:16:00.50863Z",
          "shell.execute_reply": "2025-04-15T17:16:00.508068Z",
          "shell.execute_reply.started": "2025-04-15T17:16:00.50443Z"
        },
        "trusted": true,
        "id": "Z3XfWdWfTiIP"
      },
      "outputs": [],
      "source": [
        "# ==== Configurations ====\n",
        "\n",
        "# Number of classes based on the dataset's class names\n",
        "num_classes = len(class_names)  # Set the number of output classes to the number of classes in your dataset\n",
        "\n",
        "# Total number of epochs for training\n",
        "num_epochs = 25  # The number of times the entire dataset will be passed through the model\n",
        "\n",
        "# Patience for Early Stopping\n",
        "patience = 3\n",
        "\n",
        "# Batch size used during training\n",
        "batch_size = 32  # The number of training examples used in one forward/backward pass\n",
        "\n",
        "# Learning rate for the optimizer\n",
        "learning_rate = 0.01  # Defines the step size in updating model weights\n",
        "\n",
        "# Dropout rate for regularization to prevent overfitting\n",
        "dropout_rate = 0.5  # 50% dropout rate in fully connected layers\n",
        "\n",
        "# Setting up the device (GPU if available, otherwise CPU)\n",
        "device = torch.device(\"cuda\" if torch.cuda.is_available() else \"cpu\")  # Choose device for computation (GPU/CPU)\n"
      ]
    },
    {
      "cell_type": "markdown",
      "source": [
        "Load Pretrained MobileNetV2 and Freeze Initial Layers"
      ],
      "metadata": {
        "id": "7SCKEDW6aLNt"
      }
    },
    {
      "cell_type": "code",
      "execution_count": null,
      "metadata": {
        "execution": {
          "iopub.execute_input": "2025-04-15T14:35:31.629568Z",
          "iopub.status.busy": "2025-04-15T14:35:31.629315Z",
          "iopub.status.idle": "2025-04-15T14:35:31.728083Z",
          "shell.execute_reply": "2025-04-15T14:35:31.727527Z",
          "shell.execute_reply.started": "2025-04-15T14:35:31.62955Z"
        },
        "trusted": true,
        "id": "j7_lKYA8TiIP"
      },
      "outputs": [],
      "source": [
        "# ==== Load Pretrained MobileNetV2 ====\n",
        "\n",
        "# Load a pretrained MobileNetV2 model from torchvision\n",
        "model = models.mobilenet_v2(pretrained=True)  # This loads the MobileNetV2 model pre-trained on ImageNet\n",
        "\n",
        "# Freeze initial layers (optional) to avoid retraining them\n",
        "for param in model.features[:10].parameters():\n",
        "    param.requires_grad = False  # Set the requires_grad flag to False for the first 10 layers\n"
      ]
    },
    {
      "cell_type": "markdown",
      "source": [
        "Modify the Classifier of MobileNetV2"
      ],
      "metadata": {
        "id": "9vJdTUvJaWZ7"
      }
    },
    {
      "cell_type": "code",
      "execution_count": null,
      "metadata": {
        "execution": {
          "iopub.execute_input": "2025-04-15T14:35:36.343075Z",
          "iopub.status.busy": "2025-04-15T14:35:36.342433Z",
          "iopub.status.idle": "2025-04-15T14:35:36.555833Z",
          "shell.execute_reply": "2025-04-15T14:35:36.555305Z",
          "shell.execute_reply.started": "2025-04-15T14:35:36.343052Z"
        },
        "trusted": true,
        "id": "nC8hLQHuTiIQ"
      },
      "outputs": [],
      "source": [
        "# ==== Modify the classifier ====\n",
        "\n",
        "# Modify the final classifier part of the pretrained MobileNetV2 model\n",
        "model.classifier = nn.Sequential(\n",
        "    nn.Linear(model.last_channel, 512),  # Fully connected layer with 512 output units\n",
        "    nn.BatchNorm1d(512),  # Batch Normalization for 512 units to stabilize training\n",
        "    nn.LeakyReLU(),  # LeakyReLU activation function to introduce non-linearity\n",
        "    nn.Dropout(dropout_rate),  # Dropout regularization with a rate defined by 'dropout_rate'\n",
        "\n",
        "    nn.Linear(512, 256),  # Fully connected layer with 256 output units\n",
        "    nn.ReLU(),  # ReLU activation function to introduce non-linearity\n",
        "    nn.BatchNorm1d(256),  # Batch Normalization for 256 units\n",
        "    nn.Dropout(dropout_rate),  # Dropout regularization again with the same rate\n",
        "\n",
        "    nn.Linear(256, num_classes)  # Final fully connected layer with 'num_classes' output units\n",
        ")\n",
        "\n",
        "# Move the modified model to the specified device (GPU or CPU)\n",
        "model = model.to(device)\n"
      ]
    },
    {
      "cell_type": "markdown",
      "source": [
        "Loss Function, Optimizer, and Learning Rate Scheduler Setup"
      ],
      "metadata": {
        "id": "7HITaQ3aafWt"
      }
    },
    {
      "cell_type": "code",
      "execution_count": null,
      "metadata": {
        "execution": {
          "iopub.execute_input": "2025-04-15T14:35:38.189979Z",
          "iopub.status.busy": "2025-04-15T14:35:38.189742Z",
          "iopub.status.idle": "2025-04-15T14:35:38.19479Z",
          "shell.execute_reply": "2025-04-15T14:35:38.19404Z",
          "shell.execute_reply.started": "2025-04-15T14:35:38.189963Z"
        },
        "trusted": true,
        "id": "gzY784W1TiIQ"
      },
      "outputs": [],
      "source": [
        "# ==== Loss, Optimizer, Scheduler ====\n",
        "\n",
        "# Loss Function: CrossEntropyLoss for multi-class classification\n",
        "criterion = nn.CrossEntropyLoss()  # This is suitable for classification problems with multiple classes.\n",
        "\n",
        "# Optimizer: AdamW with weight decay regularization\n",
        "optimizer = optim.AdamW(model.parameters(), lr=learning_rate, weight_decay=1e-4)\n",
        "# AdamW optimizer combines the advantages of Adam and weight decay regularization (L2 regularization).\n",
        "# 'lr' sets the learning rate, and 'weight_decay' helps to reduce overfitting by penalizing large weights.\n",
        "\n",
        "# Learning Rate Scheduler: StepLR\n",
        "scheduler = optim.lr_scheduler.StepLR(optimizer, step_size=10, gamma=0.5)\n",
        "# The StepLR scheduler decreases the learning rate by a factor of 'gamma' (0.5) every 'step_size' epochs (10 epochs in this case).\n",
        "# This helps to reduce the learning rate as training progresses, which is useful for fine-tuning the model.\n"
      ]
    },
    {
      "cell_type": "markdown",
      "source": [
        "Training Loop with Early Stopping and Checkpoint Saving"
      ],
      "metadata": {
        "id": "ffaHTE1pazKr"
      }
    },
    {
      "cell_type": "code",
      "execution_count": null,
      "metadata": {
        "execution": {
          "iopub.execute_input": "2025-04-16T16:01:51.006353Z",
          "iopub.status.busy": "2025-04-16T16:01:51.005650Z"
        },
        "trusted": true,
        "id": "-D93SQXFTiIb",
        "outputId": "eeb68749-95aa-4853-a048-72aa20370f9f"
      },
      "outputs": [
        {
          "name": "stderr",
          "output_type": "stream",
          "text": [
            "                                                                                                   \r"
          ]
        },
        {
          "name": "stdout",
          "output_type": "stream",
          "text": [
            "[Epoch 1] Train Loss: 8.3417 | Top-1: 0.25% | Top-5: 0.88% || Val Loss: 7.5938 | Top-1: 0.80% | Top-5: 2.98%\n",
            "[INFO] New best model saved at epoch 1\n"
          ]
        },
        {
          "name": "stderr",
          "output_type": "stream",
          "text": [
            "                                                                                                 \r"
          ]
        },
        {
          "name": "stdout",
          "output_type": "stream",
          "text": [
            "[Epoch 2] Train Loss: 7.2882 | Top-1: 1.15% | Top-5: 4.45% || Val Loss: 6.8581 | Top-1: 2.31% | Top-5: 8.61%\n",
            "[INFO] New best model saved at epoch 2\n"
          ]
        },
        {
          "name": "stderr",
          "output_type": "stream",
          "text": [
            "                                                                                                \r"
          ]
        },
        {
          "name": "stdout",
          "output_type": "stream",
          "text": [
            "[Epoch 3] Train Loss: 6.6614 | Top-1: 3.18% | Top-5: 10.75% || Val Loss: 6.3300 | Top-1: 5.56% | Top-5: 16.90%\n",
            "[INFO] New best model saved at epoch 3\n"
          ]
        },
        {
          "name": "stderr",
          "output_type": "stream",
          "text": [
            "                                                                                                \r"
          ]
        },
        {
          "name": "stdout",
          "output_type": "stream",
          "text": [
            "[Epoch 4] Train Loss: 6.1549 | Top-1: 6.43% | Top-5: 18.93% || Val Loss: 5.8619 | Top-1: 9.66% | Top-5: 25.96%\n",
            "[INFO] New best model saved at epoch 4\n"
          ]
        },
        {
          "name": "stderr",
          "output_type": "stream",
          "text": [
            "                                                                                                \r"
          ]
        },
        {
          "name": "stdout",
          "output_type": "stream",
          "text": [
            "[Epoch 5] Train Loss: 5.7414 | Top-1: 10.51% | Top-5: 27.38% || Val Loss: 5.6610 | Top-1: 12.94% | Top-5: 30.98%\n",
            "[INFO] New best model saved at epoch 5\n"
          ]
        },
        {
          "name": "stderr",
          "output_type": "stream",
          "text": [
            "                                                                                                \r"
          ]
        },
        {
          "name": "stdout",
          "output_type": "stream",
          "text": [
            "[Epoch 6] Train Loss: 5.4050 | Top-1: 14.85% | Top-5: 34.91% || Val Loss: 5.2788 | Top-1: 18.76% | Top-5: 39.76%\n",
            "[INFO] New best model saved at epoch 6\n"
          ]
        },
        {
          "name": "stderr",
          "output_type": "stream",
          "text": [
            "                                                                                                \r"
          ]
        },
        {
          "name": "stdout",
          "output_type": "stream",
          "text": [
            "[Epoch 7] Train Loss: 5.1264 | Top-1: 18.92% | Top-5: 41.49% || Val Loss: 5.0530 | Top-1: 22.85% | Top-5: 45.28%\n",
            "[INFO] New best model saved at epoch 7\n"
          ]
        },
        {
          "name": "stderr",
          "output_type": "stream",
          "text": [
            "                                                                                                \r"
          ]
        },
        {
          "name": "stdout",
          "output_type": "stream",
          "text": [
            "[Epoch 8] Train Loss: 4.8860 | Top-1: 23.17% | Top-5: 46.98% || Val Loss: 4.8253 | Top-1: 26.87% | Top-5: 49.61%\n",
            "[INFO] New best model saved at epoch 8\n"
          ]
        },
        {
          "name": "stderr",
          "output_type": "stream",
          "text": [
            "                                                                                                \r"
          ]
        },
        {
          "name": "stdout",
          "output_type": "stream",
          "text": [
            "[Epoch 9] Train Loss: 4.6566 | Top-1: 27.17% | Top-5: 52.14% || Val Loss: 4.6897 | Top-1: 29.68% | Top-5: 52.95%\n",
            "[INFO] New best model saved at epoch 9\n"
          ]
        },
        {
          "name": "stderr",
          "output_type": "stream",
          "text": [
            "                                                                                                 \r"
          ]
        },
        {
          "name": "stdout",
          "output_type": "stream",
          "text": [
            "[Epoch 10] Train Loss: 4.4664 | Top-1: 30.68% | Top-5: 56.57% || Val Loss: 4.5276 | Top-1: 33.13% | Top-5: 56.32%\n",
            "[INFO] New best model saved at epoch 10\n"
          ]
        },
        {
          "name": "stderr",
          "output_type": "stream",
          "text": [
            "                                                                                                 \r"
          ]
        },
        {
          "name": "stdout",
          "output_type": "stream",
          "text": [
            "[Epoch 11] Train Loss: 4.2995 | Top-1: 34.14% | Top-5: 60.19% || Val Loss: 4.4037 | Top-1: 36.03% | Top-5: 58.68%\n",
            "[INFO] New best model saved at epoch 11\n"
          ]
        },
        {
          "name": "stderr",
          "output_type": "stream",
          "text": [
            "                                                                                                 \r"
          ]
        },
        {
          "name": "stdout",
          "output_type": "stream",
          "text": [
            "[Epoch 12] Train Loss: 4.1566 | Top-1: 37.01% | Top-5: 63.14% || Val Loss: 4.3134 | Top-1: 38.70% | Top-5: 60.75%\n",
            "[INFO] New best model saved at epoch 12\n"
          ]
        },
        {
          "name": "stderr",
          "output_type": "stream",
          "text": [
            "                                                                                                 \r"
          ]
        },
        {
          "name": "stdout",
          "output_type": "stream",
          "text": [
            "[Epoch 13] Train Loss: 4.0352 | Top-1: 39.56% | Top-5: 65.69% || Val Loss: 4.3282 | Top-1: 37.19% | Top-5: 60.19%\n",
            "[INFO] No improvement for 1 epoch(s)\n"
          ]
        },
        {
          "name": "stderr",
          "output_type": "stream",
          "text": [
            "                                                                                                 \r"
          ]
        },
        {
          "name": "stdout",
          "output_type": "stream",
          "text": [
            "[Epoch 14] Train Loss: 3.9260 | Top-1: 41.75% | Top-5: 67.87% || Val Loss: 4.2246 | Top-1: 38.95% | Top-5: 62.33%\n",
            "[INFO] New best model saved at epoch 14\n"
          ]
        },
        {
          "name": "stderr",
          "output_type": "stream",
          "text": [
            "                                                                                                 \r"
          ]
        },
        {
          "name": "stdout",
          "output_type": "stream",
          "text": [
            "[Epoch 15] Train Loss: 3.8263 | Top-1: 44.01% | Top-5: 69.94% || Val Loss: 4.1150 | Top-1: 42.02% | Top-5: 64.26%\n",
            "[INFO] New best model saved at epoch 15\n"
          ]
        },
        {
          "name": "stderr",
          "output_type": "stream",
          "text": [
            "                                                                                                 \r"
          ]
        },
        {
          "name": "stdout",
          "output_type": "stream",
          "text": [
            "[Epoch 16] Train Loss: 3.7292 | Top-1: 46.18% | Top-5: 71.84% || Val Loss: 4.0296 | Top-1: 44.24% | Top-5: 65.96%\n",
            "[INFO] New best model saved at epoch 16\n"
          ]
        },
        {
          "name": "stderr",
          "output_type": "stream",
          "text": [
            "                                                                                                 \r"
          ]
        },
        {
          "name": "stdout",
          "output_type": "stream",
          "text": [
            "[Epoch 17] Train Loss: 3.6447 | Top-1: 48.16% | Top-5: 73.38% || Val Loss: 4.0548 | Top-1: 43.44% | Top-5: 65.36%\n",
            "[INFO] No improvement for 1 epoch(s)\n"
          ]
        },
        {
          "name": "stderr",
          "output_type": "stream",
          "text": [
            "Epoch 18/25:  89%|████████▉ | 1564/1750 [06:35<00:47,  3.92it/s, loss=3.8, top1=50.1, top5=75.2] "
          ]
        }
      ],
      "source": [
        "# ==== Training Loop with Early Stopping ====\n",
        "\n",
        "# Initialize tracking variables\n",
        "best_val_loss = float('inf')  # Store the best validation loss\n",
        "epochs_no_improve = 0  # Count how many epochs with no improvement in validation loss\n",
        "\n",
        "# Lists to store metrics for later analysis\n",
        "train_losses = []  # List for storing training losses\n",
        "val_losses = []  # List for storing validation losses\n",
        "train_top1_accuracies = []  # List for storing top-1 training accuracy\n",
        "val_top1_accuracies = []  # List for storing top-1 validation accuracy\n",
        "train_top5_accuracies = []  # List for storing top-5 training accuracy\n",
        "val_top5_accuracies = []  # List for storing top-5 validation accuracy\n",
        "\n",
        "# Training loop over epochs\n",
        "for epoch in range(num_epochs):\n",
        "    model.train()  # Set the model to training mode\n",
        "    running_loss = 0.0\n",
        "    correct_top1 = 0\n",
        "    correct_top5 = 0\n",
        "    total = 0\n",
        "\n",
        "    # tqdm to show progress of training\n",
        "    train_loader_tqdm = tqdm(train_loader, desc=f\"Epoch {epoch+1}/{num_epochs}\", leave=False)\n",
        "\n",
        "    # Loop over batches of data for training\n",
        "    for inputs, labels in train_loader_tqdm:\n",
        "        inputs, labels = inputs.to(device), labels.to(device)  # Move data to the device (GPU or CPU)\n",
        "\n",
        "        optimizer.zero_grad()  # Zero the gradients before backpropagation\n",
        "        outputs = model(inputs)  # Forward pass\n",
        "        loss = criterion(outputs, labels)  # Compute the loss\n",
        "        loss.backward()  # Backpropagation\n",
        "        optimizer.step()  # Update weights using the optimizer\n",
        "\n",
        "        # Accumulate training loss and accuracy metrics\n",
        "        running_loss += loss.item()\n",
        "        total += labels.size(0)\n",
        "\n",
        "        # Top-1 Accuracy calculation\n",
        "        _, top1_preds = torch.max(outputs, 1)\n",
        "        correct_top1 += (top1_preds == labels).sum().item()\n",
        "\n",
        "        # Top-5 Accuracy calculation\n",
        "        _, top5_preds = outputs.topk(5, dim=1)\n",
        "        correct_top5 += top5_preds.eq(labels.view(-1, 1).expand_as(top5_preds)).any(dim=1).sum().item()\n",
        "\n",
        "        # Update tqdm progress bar with current loss and accuracies\n",
        "        train_loader_tqdm.set_postfix(\n",
        "            loss=loss.item(),\n",
        "            top1=100 * correct_top1 / total,\n",
        "            top5=100 * correct_top5 / total\n",
        "        )\n",
        "\n",
        "    # ==== Validation Phase ====\n",
        "    model.eval()  # Set the model to evaluation mode (no gradient calculation)\n",
        "    val_loss = 0.0\n",
        "    val_correct_top1 = 0\n",
        "    val_correct_top5 = 0\n",
        "    val_total = 0\n",
        "\n",
        "    # Loop over validation data (no gradient computation)\n",
        "    with torch.no_grad():\n",
        "        for inputs, labels in val_loader:\n",
        "            inputs, labels = inputs.to(device), labels.to(device)\n",
        "            outputs = model(inputs)  # Forward pass\n",
        "            loss = criterion(outputs, labels)  # Compute validation loss\n",
        "            val_loss += loss.item()\n",
        "            val_total += labels.size(0)\n",
        "\n",
        "            # Top-1 Accuracy (Validation)\n",
        "            _, val_top1_preds = torch.max(outputs, 1)\n",
        "            val_correct_top1 += (val_top1_preds == labels).sum().item()\n",
        "\n",
        "            # Top-5 Accuracy (Validation)\n",
        "            _, val_top5_preds = outputs.topk(5, dim=1)\n",
        "            val_correct_top5 += val_top5_preds.eq(labels.view(-1, 1).expand_as(val_top5_preds)).any(dim=1).sum().item()\n",
        "\n",
        "    # ==== Calculate Metrics ====\n",
        "    avg_train_loss = running_loss / len(train_loader)  # Average training loss\n",
        "    train_top1_acc = 100 * correct_top1 / total  # Top-1 training accuracy\n",
        "    train_top5_acc = 100 * correct_top5 / total  # Top-5 training accuracy\n",
        "    avg_val_loss = val_loss / len(val_loader)  # Average validation loss\n",
        "    val_top1_acc = 100 * val_correct_top1 / val_total  # Top-1 validation accuracy\n",
        "    val_top5_acc = 100 * val_correct_top5 / val_total  # Top-5 validation accuracy\n",
        "\n",
        "    # Store the metrics for visualization and further analysis\n",
        "    train_losses.append(avg_train_loss)\n",
        "    val_losses.append(avg_val_loss)\n",
        "    train_top1_accuracies.append(train_top1_acc)\n",
        "    val_top1_accuracies.append(val_top1_acc)\n",
        "    train_top5_accuracies.append(train_top5_acc)\n",
        "    val_top5_accuracies.append(val_top5_acc)\n",
        "\n",
        "    # Print out metrics for the current epoch\n",
        "    print(f\"[Epoch {epoch+1}] \"\n",
        "          f\"Train Loss: {avg_train_loss:.4f} | Top-1 Acc: {train_top1_acc:.2f}% | Top-5 Acc: {train_top5_acc:.2f}% || \"\n",
        "          f\"Val Loss: {avg_val_loss:.4f} | Top-1 Acc: {val_top1_acc:.2f}% | Top-5 Acc: {val_top5_acc:.2f}%\")\n",
        "\n",
        "    # ==== Early Stopping Check ====\n",
        "    # If validation loss has improved, save the model and reset the \"no improvement\" counter\n",
        "    if avg_val_loss < best_val_loss:\n",
        "        best_val_loss = avg_val_loss\n",
        "        epochs_no_improve = 0  # Reset the counter for epochs with no improvement\n",
        "        save_checkpoint(model, optimizer, epoch+1, avg_val_loss, f\"best_checkpoint_epoch_{epoch+1}.pth\")\n",
        "        print(f\"[INFO] New best model saved at epoch {epoch+1}\")\n",
        "    else:\n",
        "        epochs_no_improve += 1  # Increment the counter for no improvement\n",
        "        print(f\"[INFO] No improvement for {epochs_no_improve} epoch(s)\")\n",
        "\n",
        "    # If no improvement for a set number of epochs, stop training early\n",
        "    if epochs_no_improve >= patience:\n",
        "        print(f\"[INFO] Early stopping triggered at epoch {epoch+1}\")\n",
        "        break\n",
        "\n",
        "    # Step through the learning rate scheduler after every epoch\n",
        "    scheduler.step()\n"
      ]
    },
    {
      "cell_type": "markdown",
      "source": [
        "Plotting the loss curves"
      ],
      "metadata": {
        "id": "dXaAszavbNlG"
      }
    },
    {
      "cell_type": "code",
      "source": [
        "plt.figure(figsize=(8, 5))\n",
        "plt.plot(epochs[:len(val_loss)], train_loss[:len(val_loss)], label=\"Train Loss\", marker='o')\n",
        "plt.plot(epochs[:len(val_loss)], val_loss, label=\"Val Loss\", marker='o')\n",
        "plt.xlabel(\"Epoch\")\n",
        "plt.ylabel(\"Loss\")\n",
        "plt.title(\"Training & Validation Loss\")\n",
        "plt.legend()\n",
        "plt.grid(True)\n",
        "plt.show()\n"
      ],
      "metadata": {
        "colab": {
          "base_uri": "https://localhost:8080/",
          "height": 487
        },
        "id": "sf84mGdybDra",
        "outputId": "322d34ef-4bc9-442f-c566-7e846702eeaf"
      },
      "execution_count": 16,
      "outputs": [
        {
          "output_type": "display_data",
          "data": {
            "text/plain": [
              "<Figure size 800x500 with 1 Axes>"
            ],
            "image/png": "[encoded data removed]"
          },
          "metadata": {}
        }
      ]
    },
    {
      "cell_type": "markdown",
      "source": [
        "Plotting the Top-1 accuracy curves"
      ],
      "metadata": {
        "id": "z-4bt8pnbToD"
      }
    },
    {
      "cell_type": "code",
      "source": [
        "plt.figure(figsize=(8, 5))\n",
        "plt.plot(epochs[:len(val_top1)], train_top1, label=\"Train Top-1 Acc\", marker='o')\n",
        "plt.plot(epochs[:len(val_top1)], val_top1, label=\"Val Top-1 Acc\", marker='o')\n",
        "plt.xlabel(\"Epoch\")\n",
        "plt.ylabel(\"Top-1 Accuracy (%)\")\n",
        "plt.title(\"Top-1 Accuracy over Epochs\")\n",
        "plt.legend()\n",
        "plt.grid(True)\n",
        "plt.show()\n"
      ],
      "metadata": {
        "colab": {
          "base_uri": "https://localhost:8080/",
          "height": 487
        },
        "id": "NmxDXyHAbDRd",
        "outputId": "632f7e1a-3034-4dbb-d46c-666faf6e97e2"
      },
      "execution_count": 17,
      "outputs": [
        {
          "output_type": "display_data",
          "data": {
            "text/plain": [
              "<Figure size 800x500 with 1 Axes>"
            ],
            "image/png": "[encoded data removed]"
          },
          "metadata": {}
        }
      ]
    },
    {
      "cell_type": "markdown",
      "source": [
        "Plot Training and Validation Top-5 Accuracy"
      ],
      "metadata": {
        "id": "1c2V4l4UbWrl"
      }
    },
    {
      "cell_type": "code",
      "source": [
        "plt.figure(figsize=(8, 5))\n",
        "plt.plot(epochs[:len(val_top5)], train_top5, label=\"Train Top-5 Acc\", marker='o')\n",
        "plt.plot(epochs[:len(val_top5)], val_top5, label=\"Val Top-5 Acc\", marker='o')\n",
        "plt.xlabel(\"Epoch\")\n",
        "plt.ylabel(\"Top-5 Accuracy (%)\")\n",
        "plt.title(\"Top-5 Accuracy over Epochs\")\n",
        "plt.legend()\n",
        "plt.grid(True)\n",
        "plt.show()\n"
      ],
      "metadata": {
        "colab": {
          "base_uri": "https://localhost:8080/",
          "height": 487
        },
        "id": "eXZI2jKsbWMK",
        "outputId": "c22f9479-5906-488f-ad61-fbc89dbaca5d"
      },
      "execution_count": 18,
      "outputs": [
        {
          "output_type": "display_data",
          "data": {
            "text/plain": [
              "<Figure size 800x500 with 1 Axes>"
            ],
            "image/png": "[encoded data removed]"
          },
          "metadata": {}
        }
      ]
    },
    {
      "cell_type": "markdown",
      "source": [
        "Evaluate the Model on Test Data"
      ],
      "metadata": {
        "id": "DdO3ca_Fb45T"
      }
    },
    {
      "cell_type": "code",
      "source": [
        "def evaluate(model, data_loader):\n",
        "    # Set the model to evaluation mode\n",
        "    model.eval()\n",
        "\n",
        "    correct = 0  # Variable to store the number of correct predictions\n",
        "    total = 0  # Variable to store the total number of predictions\n",
        "\n",
        "    # Disable gradient calculation for evaluation\n",
        "    with torch.no_grad():\n",
        "        # Iterate through the data loader for the test data\n",
        "        for inputs, labels in data_loader:\n",
        "            # Move the inputs and labels to the device (GPU or CPU)\n",
        "            inputs, labels = inputs.to(device), labels.to(device)\n",
        "\n",
        "            # Forward pass: get model predictions\n",
        "            outputs = model(inputs)\n",
        "\n",
        "            # Get the predicted class by finding the class with the maximum score\n",
        "            _, predicted = torch.max(outputs, 1)\n",
        "\n",
        "            # Update total count of samples\n",
        "            total += labels.size(0)\n",
        "\n",
        "            # Update the count of correct predictions\n",
        "            correct += (predicted == labels).sum().item()\n",
        "\n",
        "    # Calculate the accuracy percentage\n",
        "    return 100 * correct / total\n",
        "\n",
        "# ==== Final Test Accuracy ====\n",
        "# Calculate and print the test accuracy\n",
        "test_accuracy = evaluate(model, test_loader)\n",
        "print(f\"Test Accuracy: {test_accuracy:.2f}%\")\n"
      ],
      "metadata": {
        "colab": {
          "base_uri": "https://localhost:8080/"
        },
        "id": "_dj5Yv82cJJY",
        "outputId": "0112b22e-fba3-4c23-e0aa-5fb8c2259c31"
      },
      "execution_count": 13,
      "outputs": [
        {
          "output_type": "stream",
          "name": "stdout",
          "text": [
            "Test Accuracy: 47.73%\n"
          ]
        }
      ]
    },
    {
      "cell_type": "markdown",
      "metadata": {
        "id": "jGe818imTiIb"
      },
      "source": [
        "# Model no. 02 Resnet18"
      ]
    },
    {
      "cell_type": "markdown",
      "source": [
        "Load pretrained ResNet18"
      ],
      "metadata": {
        "id": "pEpPzm_ifEhd"
      }
    },
    {
      "cell_type": "code",
      "source": [
        "model = models.resnet18(pretrained=True)"
      ],
      "metadata": {
        "id": "IRVrrHJze-im"
      },
      "execution_count": null,
      "outputs": []
    },
    {
      "cell_type": "markdown",
      "source": [
        "Unfreeze the last two layers for fine-tuning"
      ],
      "metadata": {
        "id": "4YIkXU5LfIFc"
      }
    },
    {
      "cell_type": "code",
      "source": [
        "for name, param in model.named_parameters():\n",
        "    if \"layer4\" in name or \"fc\" in name:\n",
        "        param.requires_grad = True\n",
        "    else:\n",
        "        param.requires_grad = False"
      ],
      "metadata": {
        "id": "lckjM0Cke-ZH"
      },
      "execution_count": null,
      "outputs": []
    },
    {
      "cell_type": "markdown",
      "source": [
        "Modify final layer (add Dropout + classifier)"
      ],
      "metadata": {
        "id": "da-ZgEC5fMMg"
      }
    },
    {
      "cell_type": "code",
      "source": [
        "num_ftrs = model.fc.in_features\n",
        "model.fc = nn.Sequential(\n",
        "    nn.Dropout(0.4),\n",
        "    nn.Linear(num_ftrs, len(class_names))\n",
        ")"
      ],
      "metadata": {
        "id": "KcRQt6Iye-Qm"
      },
      "execution_count": null,
      "outputs": []
    },
    {
      "cell_type": "markdown",
      "source": [
        "Device setting"
      ],
      "metadata": {
        "id": "4TPxv-i5fQDS"
      }
    },
    {
      "cell_type": "code",
      "execution_count": null,
      "metadata": {
        "execution": {
          "iopub.execute_input": "2025-04-13T09:47:49.442318Z",
          "iopub.status.busy": "2025-04-13T09:47:49.442053Z",
          "iopub.status.idle": "2025-04-13T09:47:49.743548Z",
          "shell.execute_reply": "2025-04-13T09:47:49.742824Z",
          "shell.execute_reply.started": "2025-04-13T09:47:49.442299Z"
        },
        "trusted": true,
        "id": "UNuIY84_TiId",
        "outputId": "3377ca9c-8ef7-4f02-f902-354ad5619838"
      },
      "outputs": [
        {
          "name": "stdout",
          "output_type": "stream",
          "text": [
            "cuda\n"
          ]
        }
      ],
      "source": [
        "device = torch.device(\"cuda\" if torch.cuda.is_available() else \"cpu\")\n",
        "model = model.to(device)\n",
        "print(device)"
      ]
    },
    {
      "cell_type": "markdown",
      "source": [
        "Optimizer, Loss Function, Learning Rate Scheduler, and Early Stopping Configuration\n"
      ],
      "metadata": {
        "id": "EgLdxFd8fZuK"
      }
    },
    {
      "cell_type": "code",
      "execution_count": null,
      "metadata": {
        "execution": {
          "iopub.execute_input": "2025-04-13T09:54:33.646457Z",
          "iopub.status.busy": "2025-04-13T09:54:33.646163Z",
          "iopub.status.idle": "2025-04-13T09:54:33.656454Z",
          "shell.execute_reply": "2025-04-13T09:54:33.655741Z",
          "shell.execute_reply.started": "2025-04-13T09:54:33.646437Z"
        },
        "trusted": true,
        "id": "3BLtVG3oTiIe",
        "outputId": "80e791e1-38af-4458-faa0-3e35af1fa2e6"
      },
      "outputs": [
        {
          "name": "stderr",
          "output_type": "stream",
          "text": [
            "/usr/local/lib/python3.11/dist-packages/torch/optim/lr_scheduler.py:62: UserWarning: The verbose parameter is deprecated. Please use get_last_lr() to access the learning rate.\n",
            "  warnings.warn(\n"
          ]
        }
      ],
      "source": [
        "# Optimizer, Loss, Scheduler\n",
        "optimizer = optim.Adam(filter(lambda p: p.requires_grad, model.parameters()), lr=0.001, weight_decay=1e-4)\n",
        "# Using Adam optimizer with weight decay (L2 regularization) to prevent overfitting.\n",
        "# I only optimize parameters that require gradients (i.e., the unfrozen layers of the model).\n",
        "\n",
        "criterion = nn.CrossEntropyLoss()\n",
        "# CrossEntropyLoss is used for multi-class classification problems. It is appropriate since I am dealing with\n",
        "# a classification task with more than two classes.\n",
        "\n",
        "scheduler = optim.lr_scheduler.ReduceLROnPlateau(optimizer, mode='min', patience=2, factor=0.5, verbose=True)\n",
        "# ReduceLROnPlateau adjusts the learning rate when the validation loss stops improving.\n",
        "# It will reduce the learning rate by a factor of 0.5 if the validation loss does not improve for 2 epochs.\n",
        "\n",
        "# Optional Early Stopping (manual logic)\n",
        "best_val_loss = float('inf')\n",
        "patience = 5\n",
        "early_stop_counter = 0\n",
        "# Early stopping is set up to halt training if the validation loss does not improve for 5 consecutive epochs.\n",
        "# This helps to prevent overfitting by stopping the training when the model starts to overfit the training data.\n",
        "\n",
        "# Training Loop\n",
        "num_epochs = 20\n",
        "# Set the total number of epochs for training.\n"
      ]
    },
    {
      "cell_type": "markdown",
      "source": [
        "Function to Calculate Top-1 and Top-5 Accuracy"
      ],
      "metadata": {
        "id": "gNJ3r-HVfnoe"
      }
    },
    {
      "cell_type": "code",
      "execution_count": null,
      "metadata": {
        "execution": {
          "iopub.execute_input": "2025-04-13T09:54:43.722842Z",
          "iopub.status.busy": "2025-04-13T09:54:43.722582Z",
          "iopub.status.idle": "2025-04-13T09:54:43.727498Z",
          "shell.execute_reply": "2025-04-13T09:54:43.726901Z",
          "shell.execute_reply.started": "2025-04-13T09:54:43.722825Z"
        },
        "trusted": true,
        "id": "Y52UkX3DTiIe"
      },
      "outputs": [],
      "source": [
        "# Function to calculate Top-1 and Top-5 accuracy\n",
        "def calculate_top_k_accuracy(outputs, labels, top_k=(1, 5)):\n",
        "    # Get the top k predictions from the model outputs\n",
        "    _, preds = torch.topk(outputs, max(top_k), 1, True, True)\n",
        "    # Compare the top k predictions with the ground truth labels\n",
        "    correct = preds.eq(labels.view(-1, 1).expand_as(preds))\n",
        "    res = []\n",
        "    for k in top_k:\n",
        "        # Calculate the accuracy for each top_k value\n",
        "        correct_k = correct[:, :k].reshape(-1).float().sum(0, keepdim=True)\n",
        "        res.append(correct_k.mul_(100.0 / outputs.size(0)))\n",
        "    return res\n"
      ]
    },
    {
      "cell_type": "markdown",
      "source": [
        "Set Output Directories for Training Logs and Checkpoints"
      ],
      "metadata": {
        "id": "njfXltdGfvxE"
      }
    },
    {
      "cell_type": "code",
      "execution_count": null,
      "metadata": {
        "execution": {
          "iopub.execute_input": "2025-04-13T09:55:48.541908Z",
          "iopub.status.busy": "2025-04-13T09:55:48.541672Z",
          "iopub.status.idle": "2025-04-13T09:55:48.54628Z",
          "shell.execute_reply": "2025-04-13T09:55:48.545574Z",
          "shell.execute_reply.started": "2025-04-13T09:55:48.541892Z"
        },
        "trusted": true,
        "id": "c0ZBOkWKTiIf"
      },
      "outputs": [],
      "source": [
        "# Output paths\n",
        "base_dir = \"/kaggle/working\"  # Base directory for storing outputs\n",
        "log_dir = os.path.join(base_dir, \"training_logs\")  # Directory for storing training logs\n",
        "checkpoint_dir = os.path.join(base_dir, \"checkpoints_resnet\")  # Directory for storing model checkpoints\n",
        "\n",
        "# Create directories if they do not exist\n",
        "os.makedirs(log_dir, exist_ok=True)\n",
        "os.makedirs(checkpoint_dir, exist_ok=True)\n"
      ]
    },
    {
      "cell_type": "markdown",
      "source": [
        "Initialize metrics list for DataFrame logging"
      ],
      "metadata": {
        "id": "BwSl7v1vf0e4"
      }
    },
    {
      "cell_type": "code",
      "execution_count": null,
      "metadata": {
        "execution": {
          "iopub.execute_input": "2025-04-13T09:55:56.177071Z",
          "iopub.status.busy": "2025-04-13T09:55:56.176383Z",
          "iopub.status.idle": "2025-04-13T09:55:56.180263Z",
          "shell.execute_reply": "2025-04-13T09:55:56.179584Z",
          "shell.execute_reply.started": "2025-04-13T09:55:56.177048Z"
        },
        "trusted": true,
        "id": "0D7qseKyTiIf"
      },
      "outputs": [],
      "source": [
        "metrics_log = []\n",
        "best_val_loss = float(\"inf\")\n",
        "early_stop_counter = 0"
      ]
    },
    {
      "cell_type": "markdown",
      "source": [
        "Save Model Checkpoint Function"
      ],
      "metadata": {
        "id": "27YaUgSZgCNF"
      }
    },
    {
      "cell_type": "code",
      "execution_count": null,
      "metadata": {
        "execution": {
          "iopub.execute_input": "2025-04-13T10:03:48.772707Z",
          "iopub.status.busy": "2025-04-13T10:03:48.77233Z",
          "iopub.status.idle": "2025-04-13T10:03:48.781279Z",
          "shell.execute_reply": "2025-04-13T10:03:48.778825Z",
          "shell.execute_reply.started": "2025-04-13T10:03:48.772681Z"
        },
        "trusted": true,
        "id": "GThm_K5TTiIg"
      },
      "outputs": [],
      "source": [
        "def save_checkpoint(model, optimizer, epoch, val_loss, val_acc, train_loss, train_acc, filepath):\n",
        "    # Create a dictionary to store model training information\n",
        "    checkpoint = {\n",
        "        'epoch': epoch,  # The current epoch\n",
        "        'model_state_dict': model.state_dict(),  # The state dict of the model (model parameters)\n",
        "        'optimizer_state_dict': optimizer.state_dict(),  # The state dict of the optimizer (optimizer parameters)\n",
        "        'val_loss': val_loss,  # The validation loss at the current epoch\n",
        "        'val_acc': val_acc,  # The validation accuracy at the current epoch\n",
        "        'train_loss': train_loss,  # The training loss at the current epoch\n",
        "        'train_acc': train_acc  # The training accuracy at the current epoch\n",
        "    }\n",
        "\n",
        "    # Save the checkpoint dictionary to a file\n",
        "    torch.save(checkpoint, filepath)\n"
      ]
    },
    {
      "cell_type": "markdown",
      "source": [
        "Training Loop with Validation, Checkpoint Saving, and Early Stopping"
      ],
      "metadata": {
        "id": "eOSRYEPxgGn7"
      }
    },
    {
      "cell_type": "code",
      "execution_count": null,
      "metadata": {
        "execution": {
          "iopub.execute_input": "2025-04-13T10:04:50.382484Z",
          "iopub.status.busy": "2025-04-13T10:04:50.381778Z",
          "iopub.status.idle": "2025-04-13T11:05:09.490659Z",
          "shell.execute_reply": "2025-04-13T11:05:09.489771Z",
          "shell.execute_reply.started": "2025-04-13T10:04:50.382462Z"
        },
        "trusted": true,
        "id": "M7jehaMvTiIg",
        "outputId": "51833a5e-f773-4d72-a6e8-507bb1907535"
      },
      "outputs": [
        {
          "name": "stderr",
          "output_type": "stream",
          "text": [
            "                                                                                     \r"
          ]
        },
        {
          "name": "stdout",
          "output_type": "stream",
          "text": [
            "[Epoch 1] Train Loss: 7.3966 | Train Acc: 0.85% | Train Top-1 Acc: 0.85% | Train Top-5 Acc: 3.07% | Val Loss: 6.4425 | Val Acc: 2.79% | Val Top-1 Acc: 2.79% | Val Top-5 Acc: 8.77%\n",
            "[INFO] Checkpoint saved at /kaggle/working/checkpoints_resnet/checkpoints_resnet_epoch_1.pth\n"
          ]
        },
        {
          "name": "stderr",
          "output_type": "stream",
          "text": [
            "                                                                                    \r"
          ]
        },
        {
          "name": "stdout",
          "output_type": "stream",
          "text": [
            "[Epoch 2] Train Loss: 5.9637 | Train Acc: 4.93% | Train Top-1 Acc: 4.93% | Train Top-5 Acc: 14.28% | Val Loss: 5.3819 | Val Acc: 9.41% | Val Top-1 Acc: 9.40% | Val Top-5 Acc: 23.32%\n",
            "[INFO] Checkpoint saved at /kaggle/working/checkpoints_resnet/checkpoints_resnet_epoch_2.pth\n"
          ]
        },
        {
          "name": "stderr",
          "output_type": "stream",
          "text": [
            "                                                                                    \r"
          ]
        },
        {
          "name": "stdout",
          "output_type": "stream",
          "text": [
            "[Epoch 3] Train Loss: 5.0160 | Train Acc: 11.74% | Train Top-1 Acc: 11.74% | Train Top-5 Acc: 28.19% | Val Loss: 4.7144 | Val Acc: 16.01% | Val Top-1 Acc: 16.01% | Val Top-5 Acc: 34.26%\n",
            "[INFO] Checkpoint saved at /kaggle/working/checkpoints_resnet/checkpoints_resnet_epoch_3.pth\n"
          ]
        },
        {
          "name": "stderr",
          "output_type": "stream",
          "text": [
            "                                                                                    \r"
          ]
        },
        {
          "name": "stdout",
          "output_type": "stream",
          "text": [
            "[Epoch 4] Train Loss: 4.2780 | Train Acc: 19.94% | Train Top-1 Acc: 19.94% | Train Top-5 Acc: 41.38% | Val Loss: 4.1882 | Val Acc: 22.46% | Val Top-1 Acc: 22.45% | Val Top-5 Acc: 43.74%\n",
            "[INFO] Checkpoint saved at /kaggle/working/checkpoints_resnet/checkpoints_resnet_epoch_4.pth\n"
          ]
        },
        {
          "name": "stderr",
          "output_type": "stream",
          "text": [
            "                                                                                    \r"
          ]
        },
        {
          "name": "stdout",
          "output_type": "stream",
          "text": [
            "[Epoch 5] Train Loss: 3.7107 | Train Acc: 27.56% | Train Top-1 Acc: 27.56% | Train Top-5 Acc: 51.45% | Val Loss: 3.9017 | Val Acc: 26.99% | Val Top-1 Acc: 26.99% | Val Top-5 Acc: 49.12%\n",
            "[INFO] Checkpoint saved at /kaggle/working/checkpoints_resnet/checkpoints_resnet_epoch_5.pth\n"
          ]
        },
        {
          "name": "stderr",
          "output_type": "stream",
          "text": [
            "                                                                                    \r"
          ]
        },
        {
          "name": "stdout",
          "output_type": "stream",
          "text": [
            "[Epoch 6] Train Loss: 3.2911 | Train Acc: 34.19% | Train Top-1 Acc: 34.19% | Train Top-5 Acc: 58.79% | Val Loss: 3.6276 | Val Acc: 32.41% | Val Top-1 Acc: 32.40% | Val Top-5 Acc: 54.03%\n",
            "[INFO] Checkpoint saved at /kaggle/working/checkpoints_resnet/checkpoints_resnet_epoch_6.pth\n"
          ]
        },
        {
          "name": "stderr",
          "output_type": "stream",
          "text": [
            "                                                                                    \r"
          ]
        },
        {
          "name": "stdout",
          "output_type": "stream",
          "text": [
            "[Epoch 7] Train Loss: 2.9500 | Train Acc: 39.42% | Train Top-1 Acc: 39.42% | Train Top-5 Acc: 64.68% | Val Loss: 3.4859 | Val Acc: 34.72% | Val Top-1 Acc: 34.72% | Val Top-5 Acc: 56.97%\n",
            "[INFO] Checkpoint saved at /kaggle/working/checkpoints_resnet/checkpoints_resnet_epoch_7.pth\n"
          ]
        },
        {
          "name": "stderr",
          "output_type": "stream",
          "text": [
            "                                                                                    \r"
          ]
        },
        {
          "name": "stdout",
          "output_type": "stream",
          "text": [
            "[Epoch 8] Train Loss: 2.6624 | Train Acc: 44.32% | Train Top-1 Acc: 44.32% | Train Top-5 Acc: 69.23% | Val Loss: 3.4106 | Val Acc: 36.19% | Val Top-1 Acc: 36.18% | Val Top-5 Acc: 58.05%\n",
            "[INFO] Checkpoint saved at /kaggle/working/checkpoints_resnet/checkpoints_resnet_epoch_8.pth\n"
          ]
        },
        {
          "name": "stderr",
          "output_type": "stream",
          "text": [
            "                                                                                    \r"
          ]
        },
        {
          "name": "stdout",
          "output_type": "stream",
          "text": [
            "[Epoch 9] Train Loss: 2.4291 | Train Acc: 48.76% | Train Top-1 Acc: 48.76% | Train Top-5 Acc: 72.98% | Val Loss: 3.3433 | Val Acc: 37.34% | Val Top-1 Acc: 37.32% | Val Top-5 Acc: 59.04%\n",
            "[INFO] Checkpoint saved at /kaggle/working/checkpoints_resnet/checkpoints_resnet_epoch_9.pth\n"
          ]
        },
        {
          "name": "stderr",
          "output_type": "stream",
          "text": [
            "                                                                                     \r"
          ]
        },
        {
          "name": "stdout",
          "output_type": "stream",
          "text": [
            "[Epoch 10] Train Loss: 2.2417 | Train Acc: 52.04% | Train Top-1 Acc: 52.04% | Train Top-5 Acc: 75.97% | Val Loss: 3.2578 | Val Acc: 39.43% | Val Top-1 Acc: 39.43% | Val Top-5 Acc: 60.37%\n",
            "[INFO] Checkpoint saved at /kaggle/working/checkpoints_resnet/checkpoints_resnet_epoch_10.pth\n"
          ]
        },
        {
          "name": "stderr",
          "output_type": "stream",
          "text": [
            "                                                                                     \r"
          ]
        },
        {
          "name": "stdout",
          "output_type": "stream",
          "text": [
            "[Epoch 11] Train Loss: 2.0783 | Train Acc: 54.86% | Train Top-1 Acc: 54.86% | Train Top-5 Acc: 78.45% | Val Loss: 3.1952 | Val Acc: 40.36% | Val Top-1 Acc: 40.35% | Val Top-5 Acc: 62.24%\n",
            "[INFO] Checkpoint saved at /kaggle/working/checkpoints_resnet/checkpoints_resnet_epoch_11.pth\n"
          ]
        },
        {
          "name": "stderr",
          "output_type": "stream",
          "text": [
            "                                                                                     \r"
          ]
        },
        {
          "name": "stdout",
          "output_type": "stream",
          "text": [
            "[Epoch 12] Train Loss: 1.9519 | Train Acc: 57.24% | Train Top-1 Acc: 57.24% | Train Top-5 Acc: 80.10% | Val Loss: 3.2194 | Val Acc: 40.47% | Val Top-1 Acc: 40.46% | Val Top-5 Acc: 61.70%\n",
            "[INFO] Checkpoint saved at /kaggle/working/checkpoints_resnet/checkpoints_resnet_epoch_12.pth\n"
          ]
        },
        {
          "name": "stderr",
          "output_type": "stream",
          "text": [
            "                                                                                     \r"
          ]
        },
        {
          "name": "stdout",
          "output_type": "stream",
          "text": [
            "[Epoch 13] Train Loss: 1.8411 | Train Acc: 59.06% | Train Top-1 Acc: 59.06% | Train Top-5 Acc: 81.87% | Val Loss: 3.1501 | Val Acc: 41.61% | Val Top-1 Acc: 41.60% | Val Top-5 Acc: 62.63%\n",
            "[INFO] Checkpoint saved at /kaggle/working/checkpoints_resnet/checkpoints_resnet_epoch_13.pth\n"
          ]
        },
        {
          "name": "stderr",
          "output_type": "stream",
          "text": [
            "                                                                                     \r"
          ]
        },
        {
          "name": "stdout",
          "output_type": "stream",
          "text": [
            "[Epoch 14] Train Loss: 1.7418 | Train Acc: 61.17% | Train Top-1 Acc: 61.17% | Train Top-5 Acc: 83.23% | Val Loss: 3.1507 | Val Acc: 42.57% | Val Top-1 Acc: 42.56% | Val Top-5 Acc: 62.78%\n",
            "[INFO] Checkpoint saved at /kaggle/working/checkpoints_resnet/checkpoints_resnet_epoch_14.pth\n"
          ]
        },
        {
          "name": "stderr",
          "output_type": "stream",
          "text": [
            "                                                                                     \r"
          ]
        },
        {
          "name": "stdout",
          "output_type": "stream",
          "text": [
            "[Epoch 15] Train Loss: 1.6546 | Train Acc: 62.90% | Train Top-1 Acc: 62.90% | Train Top-5 Acc: 84.50% | Val Loss: 3.0848 | Val Acc: 43.49% | Val Top-1 Acc: 43.49% | Val Top-5 Acc: 63.96%\n",
            "[INFO] Checkpoint saved at /kaggle/working/checkpoints_resnet/checkpoints_resnet_epoch_15.pth\n"
          ]
        },
        {
          "name": "stderr",
          "output_type": "stream",
          "text": [
            "                                                                                      \r"
          ]
        },
        {
          "name": "stdout",
          "output_type": "stream",
          "text": [
            "[Epoch 16] Train Loss: 1.5965 | Train Acc: 63.99% | Train Top-1 Acc: 63.99% | Train Top-5 Acc: 85.35% | Val Loss: 3.1012 | Val Acc: 43.14% | Val Top-1 Acc: 43.14% | Val Top-5 Acc: 64.11%\n",
            "[INFO] Checkpoint saved at /kaggle/working/checkpoints_resnet/checkpoints_resnet_epoch_16.pth\n"
          ]
        },
        {
          "name": "stderr",
          "output_type": "stream",
          "text": [
            "                                                                                     \r"
          ]
        },
        {
          "name": "stdout",
          "output_type": "stream",
          "text": [
            "[Epoch 17] Train Loss: 1.5302 | Train Acc: 65.24% | Train Top-1 Acc: 65.24% | Train Top-5 Acc: 86.06% | Val Loss: 3.1040 | Val Acc: 43.69% | Val Top-1 Acc: 43.69% | Val Top-5 Acc: 64.22%\n",
            "[INFO] Checkpoint saved at /kaggle/working/checkpoints_resnet/checkpoints_resnet_epoch_17.pth\n"
          ]
        },
        {
          "name": "stderr",
          "output_type": "stream",
          "text": [
            "                                                                                      \r"
          ]
        },
        {
          "name": "stdout",
          "output_type": "stream",
          "text": [
            "[Epoch 18] Train Loss: 1.4756 | Train Acc: 66.25% | Train Top-1 Acc: 66.25% | Train Top-5 Acc: 86.87% | Val Loss: 3.1393 | Val Acc: 43.34% | Val Top-1 Acc: 43.33% | Val Top-5 Acc: 63.67%\n",
            "[INFO] Checkpoint saved at /kaggle/working/checkpoints_resnet/checkpoints_resnet_epoch_18.pth\n"
          ]
        },
        {
          "name": "stderr",
          "output_type": "stream",
          "text": [
            "                                                                                      \r"
          ]
        },
        {
          "name": "stdout",
          "output_type": "stream",
          "text": [
            "[Epoch 19] Train Loss: 0.9157 | Train Acc: 80.13% | Train Top-1 Acc: 80.13% | Train Top-5 Acc: 93.54% | Val Loss: 2.8129 | Val Acc: 49.57% | Val Top-1 Acc: 49.57% | Val Top-5 Acc: 68.38%\n",
            "[INFO] Checkpoint saved at /kaggle/working/checkpoints_resnet/checkpoints_resnet_epoch_19.pth\n"
          ]
        },
        {
          "name": "stderr",
          "output_type": "stream",
          "text": [
            "                                                                                      \r"
          ]
        },
        {
          "name": "stdout",
          "output_type": "stream",
          "text": [
            "[Epoch 20] Train Loss: 0.8230 | Train Acc: 82.33% | Train Top-1 Acc: 82.33% | Train Top-5 Acc: 94.72% | Val Loss: 2.8724 | Val Acc: 49.01% | Val Top-1 Acc: 49.01% | Val Top-5 Acc: 67.60%\n",
            "[INFO] Checkpoint saved at /kaggle/working/checkpoints_resnet/checkpoints_resnet_epoch_20.pth\n"
          ]
        }
      ],
      "source": [
        "# Training loop for ResNet18\n",
        "for epoch in range(num_epochs):\n",
        "    model.train()  # Set the model to training mode\n",
        "    running_loss = 0.0\n",
        "    correct = 0\n",
        "    total = 0\n",
        "    top1_acc = 0.0\n",
        "    top5_acc = 0.0\n",
        "\n",
        "    # Progress bar for training\n",
        "    train_loader_tqdm = tqdm(train_loader, desc=f\"Epoch {epoch+1}/{num_epochs}\", leave=False)\n",
        "\n",
        "    for inputs, labels in train_loader_tqdm:\n",
        "        inputs, labels = inputs.to(device), labels.to(device)\n",
        "\n",
        "        optimizer.zero_grad()  # Zero the gradients of the optimizer\n",
        "        outputs = model(inputs)  # Perform forward pass\n",
        "        loss = criterion(outputs, labels)  # Compute loss\n",
        "        loss.backward()  # Backpropagate the loss\n",
        "        optimizer.step()  # Update model parameters\n",
        "\n",
        "        running_loss += loss.item()  # Accumulate the loss\n",
        "\n",
        "        # Calculate Top-1 and Top-5 accuracy\n",
        "        top1, top5 = calculate_top_k_accuracy(outputs, labels, top_k=(1, 5))\n",
        "        top1_acc += top1.item()\n",
        "        top5_acc += top5.item()\n",
        "\n",
        "        _, predicted = torch.max(outputs, 1)  # Get the predicted class\n",
        "        total += labels.size(0)\n",
        "        correct += (predicted == labels).sum().item()  # Count correct predictions\n",
        "\n",
        "        # Update the progress bar with current loss and accuracy\n",
        "        train_loader_tqdm.set_postfix(loss=loss.item(), acc=100 * correct / total)\n",
        "\n",
        "    # Validation Phase\n",
        "    model.eval()  # Set the model to evaluation mode\n",
        "    val_loss = 0.0\n",
        "    val_correct = 0\n",
        "    val_total = 0\n",
        "    val_top1_acc = 0.0\n",
        "    val_top5_acc = 0.0\n",
        "\n",
        "    with torch.no_grad():  # Disable gradient computation during validation\n",
        "        for inputs, labels in val_loader:\n",
        "            inputs, labels = inputs.to(device), labels.to(device)\n",
        "            outputs = model(inputs)  # Perform forward pass\n",
        "            loss = criterion(outputs, labels)  # Compute validation loss\n",
        "            val_loss += loss.item()\n",
        "\n",
        "            # Calculate Top-1 and Top-5 accuracy for validation\n",
        "            top1, top5 = calculate_top_k_accuracy(outputs, labels, top_k=(1, 5))\n",
        "            val_top1_acc += top1.item()\n",
        "            val_top5_acc += top5.item()\n",
        "\n",
        "            _, predicted = torch.max(outputs, 1)  # Get the predicted class\n",
        "            val_total += labels.size(0)\n",
        "            val_correct += (predicted == labels).sum().item()  # Count correct predictions\n",
        "\n",
        "    # Compute average metrics\n",
        "    avg_train_loss = running_loss / len(train_loader)\n",
        "    train_acc = 100 * correct / total\n",
        "    avg_val_loss = val_loss / len(val_loader)\n",
        "    val_acc = 100 * val_correct / val_total\n",
        "\n",
        "    avg_train_top1 = top1_acc / len(train_loader)\n",
        "    avg_train_top5 = top5_acc / len(train_loader)\n",
        "    avg_val_top1 = val_top1_acc / len(val_loader)\n",
        "    avg_val_top5 = val_top5_acc / len(val_loader)\n",
        "\n",
        "    # Logging the metrics for the current epoch\n",
        "    log_data = {\n",
        "        \"epoch\": epoch + 1,\n",
        "        \"train_loss\": avg_train_loss,\n",
        "        \"train_acc\": train_acc,\n",
        "        \"train_top1_acc\": avg_train_top1,\n",
        "        \"train_top5_acc\": avg_train_top5,\n",
        "        \"val_loss\": avg_val_loss,\n",
        "        \"val_acc\": val_acc,\n",
        "        \"val_top1_acc\": avg_val_top1,\n",
        "        \"val_top5_acc\": avg_val_top5\n",
        "    }\n",
        "\n",
        "    metrics_log.append(log_data)\n",
        "\n",
        "    # Print metrics for the current epoch\n",
        "    print(f\"[Epoch {epoch+1}] Train Loss: {avg_train_loss:.4f} | Train Acc: {train_acc:.2f}% | \"\n",
        "          f\"Train Top-1 Acc: {avg_train_top1:.2f}% | Train Top-5 Acc: {avg_train_top5:.2f}% | \"\n",
        "          f\"Val Loss: {avg_val_loss:.4f} | Val Acc: {val_acc:.2f}% | \"\n",
        "          f\"Val Top-1 Acc: {avg_val_top1:.2f}% | Val Top-5 Acc: {avg_val_top5:.2f}%\")\n",
        "\n",
        "    # Adjust learning rate based on validation loss\n",
        "    scheduler.step(avg_val_loss)\n",
        "\n",
        "    # Save checkpoint at the end of the epoch\n",
        "    checkpoint_path = os.path.join(checkpoint_dir, f\"checkpoints_resnet_epoch_{epoch+1}.pth\")\n",
        "    save_checkpoint(\n",
        "        model,\n",
        "        optimizer,\n",
        "        epoch+1,\n",
        "        avg_val_loss,\n",
        "        val_acc,\n",
        "        avg_train_loss,\n",
        "        train_acc,\n",
        "        checkpoint_path\n",
        "    )\n",
        "\n",
        "    print(f\"[INFO] Checkpoint saved at {checkpoint_path}\")\n",
        "\n",
        "    # Early stopping mechanism to stop training if validation loss doesn't improve\n",
        "    if avg_val_loss < best_val_loss:\n",
        "        best_val_loss = avg_val_loss  # Update the best validation loss\n",
        "        early_stop_counter = 0  # Reset the early stopping counter\n",
        "    else:\n",
        "        early_stop_counter += 1\n",
        "        if early_stop_counter >= patience:  # If no improvement after 'patience' epochs\n",
        "            print(\"[EARLY STOPPING] No improvement in validation loss.\")\n",
        "            break\n"
      ]
    },
    {
      "cell_type": "markdown",
      "source": [
        "Save log as CSV for plotting"
      ],
      "metadata": {
        "id": "jxQcdnH_ggRV"
      }
    },
    {
      "cell_type": "code",
      "source": [
        "metrics_df = pd.DataFrame(metrics_log)\n",
        "metrics_df.to_csv(os.path.join(log_dir, \"resnet_metrics.csv\"), index=False)"
      ],
      "metadata": {
        "id": "N_3BuVs6gcYr"
      },
      "execution_count": null,
      "outputs": []
    },
    {
      "cell_type": "markdown",
      "source": [
        "Load metrics"
      ],
      "metadata": {
        "id": "xUBQP-I_gtl1"
      }
    },
    {
      "cell_type": "code",
      "source": [
        "df = pd.read_csv(\"/kaggle/working/training_logs/resnet_metrics.csv\")"
      ],
      "metadata": {
        "id": "6G3KtcXxgrnn"
      },
      "execution_count": null,
      "outputs": []
    },
    {
      "cell_type": "markdown",
      "source": [
        "Training & Validation Loss"
      ],
      "metadata": {
        "id": "rLRTkGiRgwAy"
      }
    },
    {
      "cell_type": "code",
      "source": [
        "plt.figure(figsize=(8, 5))\n",
        "plt.plot(epochs, train_loss, label=\"Train Loss\", marker='o')\n",
        "plt.plot(epochs, val_loss, label=\"Val Loss\", marker='o')\n",
        "plt.xlabel(\"Epoch\")\n",
        "plt.ylabel(\"Loss\")\n",
        "plt.title(\"Training & Validation Loss\")\n",
        "plt.legend()\n",
        "plt.grid(True)\n",
        "plt.show()\n"
      ],
      "metadata": {
        "colab": {
          "base_uri": "https://localhost:8080/",
          "height": 487
        },
        "id": "iX4VcJWdgniY",
        "outputId": "85c9c19c-a60e-4160-d33e-795c7c6b77ca"
      },
      "execution_count": 20,
      "outputs": [
        {
          "output_type": "display_data",
          "data": {
            "text/plain": [
              "<Figure size 800x500 with 1 Axes>"
            ],
            "image/png": "[encoded data removed]"
          },
          "metadata": {}
        }
      ]
    },
    {
      "cell_type": "markdown",
      "source": [
        "Top-1 Accuracy"
      ],
      "metadata": {
        "id": "r-sURCwFgzUG"
      }
    },
    {
      "cell_type": "code",
      "source": [
        "plt.figure(figsize=(8, 5))\n",
        "plt.plot(epochs, train_top1, label=\"Train Top-1 Acc\", marker='o')\n",
        "plt.plot(epochs, val_top1, label=\"Val Top-1 Acc\", marker='o')\n",
        "plt.xlabel(\"Epoch\")\n",
        "plt.ylabel(\"Top-1 Accuracy (%)\")\n",
        "plt.title(\"Top-1 Accuracy over Epochs\")\n",
        "plt.legend()\n",
        "plt.grid(True)\n",
        "plt.show()\n"
      ],
      "metadata": {
        "colab": {
          "base_uri": "https://localhost:8080/",
          "height": 487
        },
        "id": "oxLMrdPVgneO",
        "outputId": "9d7617ff-fdc3-4a4f-f697-089067db36b1"
      },
      "execution_count": 21,
      "outputs": [
        {
          "output_type": "display_data",
          "data": {
            "text/plain": [
              "<Figure size 800x500 with 1 Axes>"
            ],
            "image/png": "[encoded data removed]"
          },
          "metadata": {}
        }
      ]
    },
    {
      "cell_type": "markdown",
      "source": [
        "Top-5 Accuracy"
      ],
      "metadata": {
        "id": "uh29lHOYg3RE"
      }
    },
    {
      "cell_type": "code",
      "source": [
        "plt.figure(figsize=(8, 5))\n",
        "plt.plot(epochs, train_top5, label=\"Train Top-5 Acc\", marker='o')\n",
        "plt.plot(epochs, val_top5, label=\"Val Top-5 Acc\", marker='o')\n",
        "plt.xlabel(\"Epoch\")\n",
        "plt.ylabel(\"Top-5 Accuracy (%)\")\n",
        "plt.title(\"Top-5 Accuracy over Epochs\")\n",
        "plt.legend()\n",
        "plt.grid(True)\n",
        "plt.show()\n"
      ],
      "metadata": {
        "colab": {
          "base_uri": "https://localhost:8080/",
          "height": 487
        },
        "id": "XsymOZWJgnZQ",
        "outputId": "682a8c0f-2ae8-4325-e0f0-b8daae8bcc68"
      },
      "execution_count": 22,
      "outputs": [
        {
          "output_type": "display_data",
          "data": {
            "text/plain": [
              "<Figure size 800x500 with 1 Axes>"
            ],
            "image/png": "[encoded data removed]"
          },
          "metadata": {}
        }
      ]
    },
    {
      "cell_type": "markdown",
      "source": [
        "Final Test Accuracy"
      ],
      "metadata": {
        "id": "XhwzAITbhb0A"
      }
    },
    {
      "cell_type": "code",
      "source": [
        "def evaluate(model, data_loader):\n",
        "    # Set the model to evaluation mode\n",
        "    model.eval()\n",
        "\n",
        "    correct = 0  # Variable to store the number of correct predictions\n",
        "    total = 0  # Variable to store the total number of predictions\n",
        "\n",
        "    # Disable gradient calculation for evaluation\n",
        "    with torch.no_grad():\n",
        "        # Iterate through the data loader for the test data\n",
        "        for inputs, labels in data_loader:\n",
        "            # Move the inputs and labels to the device (GPU or CPU)\n",
        "            inputs, labels = inputs.to(device), labels.to(device)\n",
        "\n",
        "            # Forward pass: get model predictions\n",
        "            outputs = model(inputs)\n",
        "\n",
        "            # Get the predicted class by finding the class with the maximum score\n",
        "            _, predicted = torch.max(outputs, 1)\n",
        "\n",
        "            # Update total count of samples\n",
        "            total += labels.size(0)\n",
        "\n",
        "            # Update the count of correct predictions\n",
        "            correct += (predicted == labels).sum().item()\n",
        "\n",
        "    # Calculate the accuracy percentage\n",
        "    return 100 * correct / total\n",
        "\n",
        "# Calculate and print the test accuracy\n",
        "test_accuracy = evaluate(model, test_loader)\n",
        "print(f\"Test Accuracy: {test_accuracy:.2f}%\")\n"
      ],
      "metadata": {
        "colab": {
          "base_uri": "https://localhost:8080/"
        },
        "id": "44XuikZGgnUt",
        "outputId": "70e98f0c-327b-414c-b28c-a57140832c37"
      },
      "execution_count": 23,
      "outputs": [
        {
          "output_type": "stream",
          "name": "stdout",
          "text": [
            "Test Accuracy: 80.73%\n"
          ]
        }
      ]
    },
    {
      "cell_type": "markdown",
      "source": [
        "### Experiment with different combinations"
      ],
      "metadata": {
        "id": "UlQxtOzOheRb"
      }
    },
    {
      "cell_type": "markdown",
      "source": [
        "Load pretrained ResNet50"
      ],
      "metadata": {
        "id": "SM98yyvlhnYU"
      }
    },
    {
      "cell_type": "code",
      "execution_count": null,
      "metadata": {
        "execution": {
          "iopub.execute_input": "2025-04-17T12:19:05.774752Z",
          "iopub.status.busy": "2025-04-17T12:19:05.774499Z",
          "iopub.status.idle": "2025-04-17T12:19:07.361904Z",
          "shell.execute_reply": "2025-04-17T12:19:07.361205Z",
          "shell.execute_reply.started": "2025-04-17T12:19:05.774732Z"
        },
        "trusted": true,
        "id": "2-dgFHEYTiIj",
        "outputId": "90fd4a24-9b91-4a82-c3d6-ad985a9acea8"
      },
      "outputs": [
        {
          "name": "stderr",
          "output_type": "stream",
          "text": [
            "/usr/local/lib/python3.11/dist-packages/torchvision/models/_utils.py:208: UserWarning: The parameter 'pretrained' is deprecated since 0.13 and may be removed in the future, please use 'weights' instead.\n",
            "  warnings.warn(\n",
            "/usr/local/lib/python3.11/dist-packages/torchvision/models/_utils.py:223: UserWarning: Arguments other than a weight enum or `None` for 'weights' are deprecated since 0.13 and may be removed in the future. The current behavior is equivalent to passing `weights=ResNet50_Weights.IMAGENET1K_V1`. You can also use `weights=ResNet50_Weights.DEFAULT` to get the most up-to-date weights.\n",
            "  warnings.warn(msg)\n",
            "Downloading: \"https://download.pytorch.org/models/resnet50-0676ba61.pth\" to /root/.cache/torch/hub/checkpoints/resnet50-0676ba61.pth\n",
            "100%|██████████| 97.8M/97.8M [00:00<00:00, 186MB/s] \n"
          ]
        }
      ],
      "source": [
        "model = models.resnet50(pretrained=True)"
      ]
    },
    {
      "cell_type": "code",
      "execution_count": null,
      "metadata": {
        "execution": {
          "iopub.execute_input": "2025-04-17T12:19:07.363637Z",
          "iopub.status.busy": "2025-04-17T12:19:07.363204Z",
          "iopub.status.idle": "2025-04-17T12:19:07.368799Z",
          "shell.execute_reply": "2025-04-17T12:19:07.368028Z",
          "shell.execute_reply.started": "2025-04-17T12:19:07.363613Z"
        },
        "trusted": true,
        "id": "4dRGipiuTiIj"
      },
      "outputs": [],
      "source": [
        "# Freeze all layers first\n",
        "for param in model.parameters():\n",
        "    param.requires_grad = False\n",
        "\n",
        "# Unfreeze layer4 and fc for fine-tuning\n",
        "for name, param in model.named_parameters():\n",
        "    if \"layer4\" in name or \"fc\" in name:\n",
        "        param.requires_grad = True"
      ]
    },
    {
      "cell_type": "markdown",
      "source": [
        "Modify classifier head"
      ],
      "metadata": {
        "id": "_M9fKAGPiW9W"
      }
    },
    {
      "cell_type": "code",
      "execution_count": null,
      "metadata": {
        "execution": {
          "iopub.execute_input": "2025-04-17T12:19:10.448021Z",
          "iopub.status.busy": "2025-04-17T12:19:10.447713Z",
          "iopub.status.idle": "2025-04-17T12:19:10.857692Z",
          "shell.execute_reply": "2025-04-17T12:19:10.857163Z",
          "shell.execute_reply.started": "2025-04-17T12:19:10.447999Z"
        },
        "trusted": true,
        "id": "5RcdThCrTiIk"
      },
      "outputs": [],
      "source": [
        "num_ftrs = model.fc.in_features\n",
        "model.fc = nn.Sequential(\n",
        "    nn.Linear(num_ftrs, 512),\n",
        "    nn.BatchNorm1d(512),\n",
        "    nn.LeakyReLU(),\n",
        "    nn.Dropout(0.5),\n",
        "    nn.Linear(512, len(class_names))\n",
        ")\n"
      ]
    },
    {
      "cell_type": "markdown",
      "source": [
        "Move model to device"
      ],
      "metadata": {
        "id": "EXd2zEyTiZA9"
      }
    },
    {
      "cell_type": "code",
      "source": [
        "device = torch.device(\"cuda\" if torch.cuda.is_available() else \"cpu\")\n",
        "model = model.to(device)"
      ],
      "metadata": {
        "id": "gcnR37oQibB9"
      },
      "execution_count": null,
      "outputs": []
    },
    {
      "cell_type": "markdown",
      "source": [
        "Optimizer, Loss, Scheduler"
      ],
      "metadata": {
        "id": "7AawMsx6idfY"
      }
    },
    {
      "cell_type": "code",
      "execution_count": null,
      "metadata": {
        "execution": {
          "iopub.execute_input": "2025-04-17T12:19:13.509682Z",
          "iopub.status.busy": "2025-04-17T12:19:13.509137Z",
          "iopub.status.idle": "2025-04-17T12:19:13.519013Z",
          "shell.execute_reply": "2025-04-17T12:19:13.518090Z",
          "shell.execute_reply.started": "2025-04-17T12:19:13.509659Z"
        },
        "trusted": true,
        "id": "CXQZrxWbTiIm",
        "outputId": "0ac81dff-dce3-430d-ab47-72bedbf28c26"
      },
      "outputs": [
        {
          "name": "stderr",
          "output_type": "stream",
          "text": [
            "/usr/local/lib/python3.11/dist-packages/torch/optim/lr_scheduler.py:62: UserWarning: The verbose parameter is deprecated. Please use get_last_lr() to access the learning rate.\n",
            "  warnings.warn(\n"
          ]
        }
      ],
      "source": [
        "optimizer = optim.AdamW(filter(lambda p: p.requires_grad, model.parameters()), lr=0.0005, weight_decay=1e-4)\n",
        "criterion = nn.CrossEntropyLoss()\n",
        "scheduler = optim.lr_scheduler.ReduceLROnPlateau(optimizer, mode='min', patience=2, factor=0.5, verbose=True)\n"
      ]
    },
    {
      "cell_type": "markdown",
      "source": [
        "Setting Directories"
      ],
      "metadata": {
        "id": "DBqB-mCJijTy"
      }
    },
    {
      "cell_type": "code",
      "execution_count": null,
      "metadata": {
        "execution": {
          "iopub.execute_input": "2025-04-17T12:19:20.679929Z",
          "iopub.status.busy": "2025-04-17T12:19:20.679423Z",
          "iopub.status.idle": "2025-04-17T12:19:20.684071Z",
          "shell.execute_reply": "2025-04-17T12:19:20.683333Z",
          "shell.execute_reply.started": "2025-04-17T12:19:20.679905Z"
        },
        "trusted": true,
        "id": "Y8rf8rAXTiIn"
      },
      "outputs": [],
      "source": [
        "base_dir = \"/kaggle/working\"\n",
        "log_dir = os.path.join(base_dir, \"training_logs_task2\")\n",
        "checkpoint_dir = os.path.join(base_dir, \"checkpoints_task2\")\n",
        "os.makedirs(log_dir, exist_ok=True)\n",
        "os.makedirs(checkpoint_dir, exist_ok=True)"
      ]
    },
    {
      "cell_type": "markdown",
      "source": [
        "Training Configration"
      ],
      "metadata": {
        "id": "uCcr6knZioq7"
      }
    },
    {
      "cell_type": "code",
      "execution_count": null,
      "metadata": {
        "execution": {
          "iopub.execute_input": "2025-04-17T12:19:22.789537Z",
          "iopub.status.busy": "2025-04-17T12:19:22.789273Z",
          "iopub.status.idle": "2025-04-17T12:19:22.793539Z",
          "shell.execute_reply": "2025-04-17T12:19:22.792984Z",
          "shell.execute_reply.started": "2025-04-17T12:19:22.789519Z"
        },
        "trusted": true,
        "id": "agkbC7kETiIo"
      },
      "outputs": [],
      "source": [
        "num_epochs = 15\n",
        "patience = 5\n",
        "best_val_loss = float(\"inf\")\n",
        "early_stop_counter = 0\n",
        "metrics_log = []"
      ]
    },
    {
      "cell_type": "code",
      "execution_count": null,
      "metadata": {
        "execution": {
          "iopub.execute_input": "2025-04-17T12:19:28.819447Z",
          "iopub.status.busy": "2025-04-17T12:19:28.819195Z",
          "iopub.status.idle": "2025-04-17T14:10:14.735249Z",
          "shell.execute_reply": "2025-04-17T14:10:14.734461Z",
          "shell.execute_reply.started": "2025-04-17T12:19:28.819427Z"
        },
        "trusted": true,
        "id": "4smbJjRXTiIo",
        "outputId": "5f436635-729b-4c66-b0a0-c82c3d6a312a"
      },
      "outputs": [
        {
          "name": "stderr",
          "output_type": "stream",
          "text": [
            "                                                                                      \r"
          ]
        },
        {
          "name": "stdout",
          "output_type": "stream",
          "text": [
            "[Epoch 1] Train Loss: 8.3641 | Train Acc: 0.15% | Val Loss: 7.2159 | Val Acc: 0.77% | Top1: 0.77% | Top5: 3.01%\n"
          ]
        },
        {
          "name": "stderr",
          "output_type": "stream",
          "text": [
            "                                                                                    \r"
          ]
        },
        {
          "name": "stdout",
          "output_type": "stream",
          "text": [
            "[Epoch 2] Train Loss: 6.6144 | Train Acc: 2.38% | Val Loss: 5.7213 | Val Acc: 6.61% | Top1: 6.61% | Top5: 18.71%\n"
          ]
        },
        {
          "name": "stderr",
          "output_type": "stream",
          "text": [
            "                                                                                    \r"
          ]
        },
        {
          "name": "stdout",
          "output_type": "stream",
          "text": [
            "[Epoch 3] Train Loss: 5.3306 | Train Acc: 8.69% | Val Loss: 4.7948 | Val Acc: 16.57% | Top1: 16.57% | Top5: 34.64%\n"
          ]
        },
        {
          "name": "stderr",
          "output_type": "stream",
          "text": [
            "                                                                                    \r"
          ]
        },
        {
          "name": "stdout",
          "output_type": "stream",
          "text": [
            "[Epoch 4] Train Loss: 4.2989 | Train Acc: 18.80% | Val Loss: 4.2073 | Val Acc: 24.62% | Top1: 24.62% | Top5: 44.64%\n"
          ]
        },
        {
          "name": "stderr",
          "output_type": "stream",
          "text": [
            "                                                                                    \r"
          ]
        },
        {
          "name": "stdout",
          "output_type": "stream",
          "text": [
            "[Epoch 5] Train Loss: 3.3970 | Train Acc: 30.72% | Val Loss: 3.7376 | Val Acc: 31.60% | Top1: 31.60% | Top5: 52.90%\n"
          ]
        },
        {
          "name": "stderr",
          "output_type": "stream",
          "text": [
            "                                                                                    \r"
          ]
        },
        {
          "name": "stdout",
          "output_type": "stream",
          "text": [
            "[Epoch 6] Train Loss: 2.5993 | Train Acc: 43.54% | Val Loss: 3.5527 | Val Acc: 36.46% | Top1: 36.46% | Top5: 56.59%\n"
          ]
        },
        {
          "name": "stderr",
          "output_type": "stream",
          "text": [
            "                                                                                    \r"
          ]
        },
        {
          "name": "stdout",
          "output_type": "stream",
          "text": [
            "[Epoch 7] Train Loss: 1.9472 | Train Acc: 55.14% | Val Loss: 3.4938 | Val Acc: 39.15% | Top1: 39.16% | Top5: 58.57%\n"
          ]
        },
        {
          "name": "stderr",
          "output_type": "stream",
          "text": [
            "                                                                                     \r"
          ]
        },
        {
          "name": "stdout",
          "output_type": "stream",
          "text": [
            "[Epoch 8] Train Loss: 1.4232 | Train Acc: 65.61% | Val Loss: 3.6386 | Val Acc: 40.22% | Top1: 40.23% | Top5: 59.97%\n"
          ]
        },
        {
          "name": "stderr",
          "output_type": "stream",
          "text": [
            "                                                                                     \r"
          ]
        },
        {
          "name": "stdout",
          "output_type": "stream",
          "text": [
            "[Epoch 9] Train Loss: 1.0413 | Train Acc: 73.82% | Val Loss: 3.8479 | Val Acc: 40.50% | Top1: 40.50% | Top5: 59.67%\n"
          ]
        },
        {
          "name": "stderr",
          "output_type": "stream",
          "text": [
            "                                                                                      \r"
          ]
        },
        {
          "name": "stdout",
          "output_type": "stream",
          "text": [
            "[Epoch 10] Train Loss: 0.7907 | Train Acc: 79.16% | Val Loss: 3.8470 | Val Acc: 42.38% | Top1: 42.38% | Top5: 61.48%\n"
          ]
        },
        {
          "name": "stderr",
          "output_type": "stream",
          "text": [
            "                                                                                       \r"
          ]
        },
        {
          "name": "stdout",
          "output_type": "stream",
          "text": [
            "[Epoch 11] Train Loss: 0.4349 | Train Acc: 88.40% | Val Loss: 3.8204 | Val Acc: 44.06% | Top1: 44.06% | Top5: 62.82%\n"
          ]
        },
        {
          "name": "stderr",
          "output_type": "stream",
          "text": [
            "                                                                                       \r"
          ]
        },
        {
          "name": "stdout",
          "output_type": "stream",
          "text": [
            "[Epoch 12] Train Loss: 0.3028 | Train Acc: 91.91% | Val Loss: 3.9937 | Val Acc: 43.52% | Top1: 43.52% | Top5: 62.19%\n",
            "[EARLY STOPPING] No improvement in validation loss.\n"
          ]
        }
      ],
      "source": [
        "def save_checkpoint(model, optimizer, epoch, val_loss, val_acc, train_loss, train_acc, filepath):\n",
        "    checkpoint = {\n",
        "        'epoch': epoch,\n",
        "        'model_state_dict': model.state_dict(),\n",
        "        'optimizer_state_dict': optimizer.state_dict(),\n",
        "        'val_loss': val_loss,\n",
        "        'val_acc': val_acc,\n",
        "        'train_loss': train_loss,\n",
        "        'train_acc': train_acc\n",
        "    }\n",
        "    torch.save(checkpoint, filepath)\n",
        "\n",
        "for epoch in range(num_epochs):\n",
        "    model.train()\n",
        "    running_loss = 0.0\n",
        "    correct = 0\n",
        "    total = 0\n",
        "    top1_acc = 0.0\n",
        "    top5_acc = 0.0\n",
        "\n",
        "    train_loader_tqdm = tqdm(train_loader, desc=f\"Epoch {epoch+1}/{num_epochs}\", leave=False)\n",
        "\n",
        "    for inputs, labels in train_loader_tqdm:\n",
        "        inputs, labels = inputs.to(device), labels.to(device)\n",
        "\n",
        "        optimizer.zero_grad()\n",
        "        outputs = model(inputs)\n",
        "        loss = criterion(outputs, labels)\n",
        "        loss.backward()\n",
        "        optimizer.step()\n",
        "\n",
        "        running_loss += loss.item()\n",
        "\n",
        "        top1, top5 = calculate_top_k_accuracy(outputs, labels, top_k=(1, 5))\n",
        "        top1_acc += top1.item()\n",
        "        top5_acc += top5.item()\n",
        "\n",
        "        _, predicted = torch.max(outputs, 1)\n",
        "        total += labels.size(0)\n",
        "        correct += (predicted == labels).sum().item()\n",
        "\n",
        "        train_loader_tqdm.set_postfix(loss=loss.item(), acc=100 * correct / total)\n",
        "\n",
        "    # Validation\n",
        "    model.eval()\n",
        "    val_loss = 0.0\n",
        "    val_correct = 0\n",
        "    val_total = 0\n",
        "    val_top1_acc = 0.0\n",
        "    val_top5_acc = 0.0\n",
        "\n",
        "    with torch.no_grad():\n",
        "        for inputs, labels in val_loader:\n",
        "            inputs, labels = inputs.to(device), labels.to(device)\n",
        "            outputs = model(inputs)\n",
        "            loss = criterion(outputs, labels)\n",
        "            val_loss += loss.item()\n",
        "\n",
        "            top1, top5 = calculate_top_k_accuracy(outputs, labels, top_k=(1, 5))\n",
        "            val_top1_acc += top1.item()\n",
        "            val_top5_acc += top5.item()\n",
        "\n",
        "            _, predicted = torch.max(outputs, 1)\n",
        "            val_total += labels.size(0)\n",
        "            val_correct += (predicted == labels).sum().item()\n",
        "\n",
        "    # Averages\n",
        "    avg_train_loss = running_loss / len(train_loader)\n",
        "    train_acc = 100 * correct / total\n",
        "    avg_val_loss = val_loss / len(val_loader)\n",
        "    val_acc = 100 * val_correct / val_total\n",
        "\n",
        "    avg_train_top1 = top1_acc / len(train_loader)\n",
        "    avg_train_top5 = top5_acc / len(train_loader)\n",
        "    avg_val_top1 = val_top1_acc / len(val_loader)\n",
        "    avg_val_top5 = val_top5_acc / len(val_loader)\n",
        "\n",
        "    log_data = {\n",
        "        \"epoch\": epoch + 1,\n",
        "        \"train_loss\": avg_train_loss,\n",
        "        \"train_acc\": train_acc,\n",
        "        \"train_top1_acc\": avg_train_top1,\n",
        "        \"train_top5_acc\": avg_train_top5,\n",
        "        \"val_loss\": avg_val_loss,\n",
        "        \"val_acc\": val_acc,\n",
        "        \"val_top1_acc\": avg_val_top1,\n",
        "        \"val_top5_acc\": avg_val_top5\n",
        "    }\n",
        "    metrics_log.append(log_data)\n",
        "\n",
        "    print(f\"[Epoch {epoch+1}] Train Loss: {avg_train_loss:.4f} | Train Acc: {train_acc:.2f}% | \"\n",
        "          f\"Val Loss: {avg_val_loss:.4f} | Val Acc: {val_acc:.2f}% | \"\n",
        "          f\"Top1: {avg_val_top1:.2f}% | Top5: {avg_val_top5:.2f}%\")\n",
        "\n",
        "    # Scheduler step\n",
        "    scheduler.step(avg_val_loss)\n",
        "\n",
        "    # Save checkpoint\n",
        "    checkpoint_path = os.path.join(checkpoint_dir, f\"checkpoint_epoch_{epoch+1}.pth\")\n",
        "    save_checkpoint(model, optimizer, epoch+1, avg_val_loss, val_acc, avg_train_loss, train_acc, checkpoint_path)\n",
        "\n",
        "    # Early stopping\n",
        "    if avg_val_loss < best_val_loss:\n",
        "        best_val_loss = avg_val_loss\n",
        "        early_stop_counter = 0\n",
        "    else:\n",
        "        early_stop_counter += 1\n",
        "        if early_stop_counter >= patience:\n",
        "            print(\"[EARLY STOPPING] No improvement in validation loss.\")\n",
        "            break\n",
        "\n",
        "# Save all metrics to CSV\n",
        "df = pd.DataFrame(metrics_log)\n",
        "df.to_csv(os.path.join(log_dir, \"metrics.csv\"), index=False)"
      ]
    },
    {
      "cell_type": "markdown",
      "source": [
        "Training & Validation Loss"
      ],
      "metadata": {
        "id": "JcFUcnw9i9JH"
      }
    },
    {
      "cell_type": "code",
      "execution_count": 25,
      "metadata": {
        "trusted": true,
        "colab": {
          "base_uri": "https://localhost:8080/",
          "height": 487
        },
        "id": "-SuW-BIFTiIp",
        "outputId": "7ce433d4-ba53-48a1-ed98-561f45d8b102"
      },
      "outputs": [
        {
          "output_type": "display_data",
          "data": {
            "text/plain": [
              "<Figure size 800x500 with 1 Axes>"
            ],
            "image/png": "[encoded data removed]"
          },
          "metadata": {}
        }
      ],
      "source": [
        "plt.figure(figsize=(8, 5))\n",
        "plt.plot(epochs, train_loss, label=\"Train Loss\", marker='o')\n",
        "plt.plot(epochs, val_loss, label=\"Val Loss\", marker='o')\n",
        "plt.xlabel(\"Epoch\")\n",
        "plt.ylabel(\"Loss\")\n",
        "plt.title(\"Training & Validation Loss\")\n",
        "plt.legend()\n",
        "plt.grid(True)\n",
        "plt.show()\n"
      ]
    },
    {
      "cell_type": "markdown",
      "source": [
        "Top-1 Accuracy"
      ],
      "metadata": {
        "id": "5EeZmLJXi6Yo"
      }
    },
    {
      "cell_type": "code",
      "source": [
        "plt.figure(figsize=(8, 5))\n",
        "plt.plot(epochs, train_top1, label=\"Train Top-1 Acc\", marker='o')\n",
        "plt.plot(epochs, val_top1, label=\"Val Top-1 Acc\", marker='o')\n",
        "plt.xlabel(\"Epoch\")\n",
        "plt.ylabel(\"Top-1 Accuracy (%)\")\n",
        "plt.title(\"Top-1 Accuracy over Epochs\")\n",
        "plt.legend()\n",
        "plt.grid(True)\n",
        "plt.show()\n"
      ],
      "metadata": {
        "colab": {
          "base_uri": "https://localhost:8080/",
          "height": 487
        },
        "id": "b16CYQeqixM4",
        "outputId": "dd536c14-0164-43df-bf11-91df4b8ccf50"
      },
      "execution_count": 26,
      "outputs": [
        {
          "output_type": "display_data",
          "data": {
            "text/plain": [
              "<Figure size 800x500 with 1 Axes>"
            ],
            "image/png": "[encoded data removed]"
          },
          "metadata": {}
        }
      ]
    },
    {
      "cell_type": "markdown",
      "source": [
        "Top-5 Accuracy"
      ],
      "metadata": {
        "id": "cbLXo9lmi3sx"
      }
    },
    {
      "cell_type": "code",
      "source": [
        "plt.figure(figsize=(8, 5))\n",
        "plt.plot(epochs, train_top5, label=\"Train Top-5 Acc\", marker='o')\n",
        "plt.plot(epochs, val_top5, label=\"Val Top-5 Acc\", marker='o')\n",
        "plt.xlabel(\"Epoch\")\n",
        "plt.ylabel(\"Top-5 Accuracy (%)\")\n",
        "plt.title(\"Top-5 Accuracy over Epochs\")\n",
        "plt.legend()\n",
        "plt.grid(True)\n",
        "plt.show()\n"
      ],
      "metadata": {
        "colab": {
          "base_uri": "https://localhost:8080/",
          "height": 487
        },
        "id": "qG19ywjdiym0",
        "outputId": "a57b7b29-92b4-4c5f-b7af-3a93b50ce0bd"
      },
      "execution_count": 27,
      "outputs": [
        {
          "output_type": "display_data",
          "data": {
            "text/plain": [
              "<Figure size 800x500 with 1 Axes>"
            ],
            "image/png": "[encoded data removed]"
          },
          "metadata": {}
        }
      ]
    },
    {
      "cell_type": "code",
      "source": [],
      "metadata": {
        "id": "_OcRXWhVi0GL"
      },
      "execution_count": null,
      "outputs": []
    }
  ],
  "metadata": {
    "kaggle": {
      "accelerator": "none",
      "dataSources": [
        {
          "databundleVersionId": 6877691,
          "sourceId": 63103,
          "sourceType": "competition"
        },
        {
          "datasetId": 7129878,
          "sourceId": 11386204,
          "sourceType": "datasetVersion"
        },
        {
          "datasetId": 7163549,
          "sourceId": 11436513,
          "sourceType": "datasetVersion"
        }
      ],
      "dockerImageVersionId": 31011,
      "isGpuEnabled": false,
      "isInternetEnabled": true,
      "language": "python",
      "sourceType": "notebook"
    },
    "kernelspec": {
      "display_name": "Python 3",
      "name": "python3"
    },
    "language_info": {
      "codemirror_mode": {
        "name": "ipython",
        "version": 3
      },
      "file_extension": ".py",
      "mimetype": "text/x-python",
      "name": "python",
      "nbconvert_exporter": "python",
      "pygments_lexer": "ipython3",
      "version": "3.11.11"
    },
    "colab": {
      "provenance": []
    }
  },
  "nbformat": 4,
  "nbformat_minor": 0
}